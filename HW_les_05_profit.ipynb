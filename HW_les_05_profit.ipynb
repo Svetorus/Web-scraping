{
  "nbformat": 4,
  "nbformat_minor": 0,
  "metadata": {
    "colab": {
      "name": "HW les 05 .ipynb",
      "version": "0.3.2",
      "provenance": [],
      "collapsed_sections": [],
      "include_colab_link": true
    },
    "kernelspec": {
      "name": "python3",
      "display_name": "Python 3"
    }
  },
  "cells": [
    {
      "cell_type": "markdown",
      "metadata": {
        "id": "view-in-github",
        "colab_type": "text"
      },
      "source": [
        "<a href=\"https://colab.research.google.com/github/panzershracker/Web-scraping/blob/master/HW_les_05_profit.ipynb\" target=\"_parent\"><img src=\"https://colab.research.google.com/assets/colab-badge.svg\" alt=\"Open In Colab\"/></a>"
      ]
    },
    {
      "cell_type": "code",
      "metadata": {
        "id": "GQgKq-7oLM5T",
        "colab_type": "code",
        "colab": {}
      },
      "source": [
        "# pip install zeep"
      ],
      "execution_count": 0,
      "outputs": []
    },
    {
      "cell_type": "code",
      "metadata": {
        "id": "IXdPIy6U65sc",
        "colab_type": "code",
        "colab": {}
      },
      "source": [
        "from zeep import Client\n",
        "from pprint import pprint\n",
        "from datetime import datetime as dt"
      ],
      "execution_count": 0,
      "outputs": []
    },
    {
      "cell_type": "code",
      "metadata": {
        "id": "88hpTVfxLTVg",
        "colab_type": "code",
        "colab": {}
      },
      "source": [
        "url = 'https://www.cbr.ru/DailyInfoWebServ/DailyInfo.asmx?WSDL'"
      ],
      "execution_count": 0,
      "outputs": []
    },
    {
      "cell_type": "code",
      "metadata": {
        "id": "jpV0HFRabn9E",
        "colab_type": "code",
        "outputId": "5ddb8b61-7ca1-4bcb-f232-bebc52590183",
        "colab": {
          "base_uri": "https://localhost:8080/",
          "height": 51
        }
      },
      "source": [
        "client = Client(url)"
      ],
      "execution_count": 157,
      "outputs": [
        {
          "output_type": "stream",
          "text": [
            "Forcing soap:address location to HTTPS\n",
            "Forcing soap:address location to HTTPS\n"
          ],
          "name": "stderr"
        }
      ]
    },
    {
      "cell_type": "code",
      "metadata": {
        "id": "K4FYhy3zngpd",
        "colab_type": "code",
        "colab": {}
      },
      "source": [
        "month = f'0{7}'\n",
        "\n",
        "day_from = 1\n",
        "day_to = 23"
      ],
      "execution_count": 0,
      "outputs": []
    },
    {
      "cell_type": "code",
      "metadata": {
        "id": "GGAbCbeWp9Z9",
        "colab_type": "code",
        "colab": {}
      },
      "source": [
        "def curs_dict(day_from=day_from, day_to=day_to, month=month):\n",
        "\n",
        "  curs = {}\n",
        "\n",
        "  for day in range(day_from, day_to):\n",
        "    if day < 10: \n",
        "      day = f'0{day}'\n",
        "      date = f'2019-{month}-{day}'\n",
        "      money = client.service.GetCursOnDate(date)\n",
        "      val = money._value_1._value_1[10]['ValuteCursOnDate']['Vcurs']\n",
        "      curs.update({date:float(val)})\n",
        "\n",
        "    else:\n",
        "\n",
        "      date = f'2019-{month}-{day}'\n",
        "      money = client.service.GetCursOnDate(date)\n",
        "      val = money._value_1._value_1[10]['ValuteCursOnDate']['Vcurs']\n",
        "      curs.update({date:float(val)})\n",
        "    \n",
        "  return curs"
      ],
      "execution_count": 0,
      "outputs": []
    },
    {
      "cell_type": "code",
      "metadata": {
        "id": "JAqihcgFD6Ao",
        "colab_type": "code",
        "colab": {}
      },
      "source": [
        "# pprint(curs_dict())"
      ],
      "execution_count": 0,
      "outputs": []
    },
    {
      "cell_type": "markdown",
      "metadata": {
        "id": "7OH8UsVle9Hs",
        "colab_type": "text"
      },
      "source": [
        "# !\n",
        "\n",
        "### Нормальная функция расчета прибыли!"
      ]
    },
    {
      "cell_type": "code",
      "metadata": {
        "id": "unHL0DceLIu-",
        "colab_type": "code",
        "colab": {}
      },
      "source": [
        "def profit(curs_dict):\n",
        "  \n",
        "  curs_dict = curs_dict()\n",
        "  \n",
        "  best = 0\n",
        "  \n",
        "  date1 = ''\n",
        "  date2 = ''\n",
        "  \n",
        "  for k, v in curs_dict.items():\n",
        "    \n",
        "    for k2, v2 in curs_dict.items():\n",
        "      \n",
        "      if dt.strptime(k, '%Y-%m-%d').date() < dt.strptime(k2, '%Y-%m-%d').date():\n",
        "        \n",
        "        if (v2 - v) > best:\n",
        "          \n",
        "          best = v2 - v\n",
        "          \n",
        "          date1 = k\n",
        "          date2 = k2\n",
        "          \n",
        "        else:\n",
        "          pass\n",
        "      else:\n",
        "        pass\n",
        "  \n",
        "  if best == 0:\n",
        "    print(f'За указанный период с {curs_dict[0][0]} по {curs_dict[-1][0]} покупать валюту USD для продажи было не выгодно')\n",
        "    \n",
        "  else:\n",
        "    print(f'Валюту USD максимально выгодно в указанный период можно было купить {date1}, а продать {date2}. Прибыль: {round(best, 4)}')\n",
        "  \n",
        "  "
      ],
      "execution_count": 0,
      "outputs": []
    },
    {
      "cell_type": "code",
      "metadata": {
        "id": "7Vp3X2yaMLUC",
        "colab_type": "code",
        "colab": {
          "base_uri": "https://localhost:8080/",
          "height": 34
        },
        "outputId": "e31adf2a-8d31-4a25-8308-d686518e3b46"
      },
      "source": [
        "profit(curs_dict)"
      ],
      "execution_count": 162,
      "outputs": [
        {
          "output_type": "stream",
          "text": [
            "Валюту USD максимально выгодно в указанный период можно было купить 2019-07-02, а продать 2019-07-09. Прибыль: 0.8158\n"
          ],
          "name": "stdout"
        }
      ]
    }
  ]
}