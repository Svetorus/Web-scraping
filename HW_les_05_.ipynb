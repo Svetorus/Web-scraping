{
  "nbformat": 4,
  "nbformat_minor": 0,
  "metadata": {
    "colab": {
      "name": "HW les 05 .ipynb",
      "version": "0.3.2",
      "provenance": [],
      "collapsed_sections": [],
      "include_colab_link": true
    },
    "kernelspec": {
      "name": "python3",
      "display_name": "Python 3"
    }
  },
  "cells": [
    {
      "cell_type": "markdown",
      "metadata": {
        "id": "view-in-github",
        "colab_type": "text"
      },
      "source": [
        "<a href=\"https://colab.research.google.com/github/panzershracker/Web-scraping/blob/master/HW_les_05_.ipynb\" target=\"_parent\"><img src=\"https://colab.research.google.com/assets/colab-badge.svg\" alt=\"Open In Colab\"/></a>"
      ]
    },
    {
      "cell_type": "code",
      "metadata": {
        "id": "GQgKq-7oLM5T",
        "colab_type": "code",
        "colab": {}
      },
      "source": [
        "# pip install zeep"
      ],
      "execution_count": 0,
      "outputs": []
    },
    {
      "cell_type": "code",
      "metadata": {
        "id": "IXdPIy6U65sc",
        "colab_type": "code",
        "colab": {}
      },
      "source": [
        "from zeep import Client\n",
        "from pprint import pprint\n",
        "from datetime import datetime as dt"
      ],
      "execution_count": 0,
      "outputs": []
    },
    {
      "cell_type": "code",
      "metadata": {
        "id": "88hpTVfxLTVg",
        "colab_type": "code",
        "colab": {}
      },
      "source": [
        "url = 'https://www.cbr.ru/DailyInfoWebServ/DailyInfo.asmx?WSDL'"
      ],
      "execution_count": 0,
      "outputs": []
    },
    {
      "cell_type": "code",
      "metadata": {
        "id": "jpV0HFRabn9E",
        "colab_type": "code",
        "colab": {
          "base_uri": "https://localhost:8080/",
          "height": 51
        },
        "outputId": "1b115211-6f15-44ec-a0aa-598d3f8c09a6"
      },
      "source": [
        "client = Client(url)"
      ],
      "execution_count": 231,
      "outputs": [
        {
          "output_type": "stream",
          "text": [
            "Forcing soap:address location to HTTPS\n",
            "Forcing soap:address location to HTTPS\n"
          ],
          "name": "stderr"
        }
      ]
    },
    {
      "cell_type": "code",
      "metadata": {
        "id": "K4FYhy3zngpd",
        "colab_type": "code",
        "colab": {}
      },
      "source": [
        "month = f'0{6}'\n",
        "\n",
        "day_from = 1\n",
        "day_to = 23"
      ],
      "execution_count": 0,
      "outputs": []
    },
    {
      "cell_type": "code",
      "metadata": {
        "id": "GGAbCbeWp9Z9",
        "colab_type": "code",
        "colab": {}
      },
      "source": [
        "def curs_dict(day_from=day_from, day_to=day_to, month=month):\n",
        "\n",
        "  curs = {}\n",
        "\n",
        "  for day in range(day_from, day_to):\n",
        "    if day < 10: \n",
        "      day = f'0{day}'\n",
        "      date = f'2019-{month}-{day}'\n",
        "      money = client.service.GetCursOnDate(date)\n",
        "      val = money._value_1._value_1[10]['ValuteCursOnDate']['Vcurs']\n",
        "      curs.update({date:float(val)})\n",
        "\n",
        "    else:\n",
        "\n",
        "      date = f'2019-{month}-{day}'\n",
        "      money = client.service.GetCursOnDate(date)\n",
        "      val = money._value_1._value_1[10]['ValuteCursOnDate']['Vcurs']\n",
        "      curs.update({date:float(val)})\n",
        "\n",
        "  sorted_curs = sorted(curs.items(), key=lambda item: item[1])\n",
        "    \n",
        "  return sorted_curs"
      ],
      "execution_count": 0,
      "outputs": []
    },
    {
      "cell_type": "code",
      "metadata": {
        "id": "JAqihcgFD6Ao",
        "colab_type": "code",
        "colab": {}
      },
      "source": [
        "# pprint(curs_dict())"
      ],
      "execution_count": 0,
      "outputs": []
    },
    {
      "cell_type": "code",
      "metadata": {
        "id": "75mSe6942Se2",
        "colab_type": "code",
        "colab": {}
      },
      "source": [
        "def output(curs_dict):\n",
        "  \n",
        "  curs_dict = curs_dict()\n",
        "\n",
        "  sml_val_dat = dt.strptime(curs_dict[0][0], '%Y-%m-%d').date()\n",
        "  gt_val_dat = dt.strptime(curs_dict[-1][0], '%Y-%m-%d').date()\n",
        "\n",
        "  sml_val = curs_dict[0][1]\n",
        "  gt_val = curs_dict[-1][1]\n",
        "\n",
        "  if gt_val_dat < sml_val_dat:\n",
        "    print(f'Валюту USD выгодно было купить {gt_val_dat}, а продать {sml_val_dat}.'\n",
        "          f' Прибыль: {round(gt_val - sml_val, 4)}')\n",
        "\n",
        "  else:\n",
        "    print(f'Валюту USD выгодно было купить {sml_val_dat}, а продать {gt_val_dat}.'\n",
        "          f' Прибыль: {round(gt_val - sml_val, 4)}')"
      ],
      "execution_count": 0,
      "outputs": []
    },
    {
      "cell_type": "code",
      "metadata": {
        "id": "LI59HjWE1hTi",
        "colab_type": "code",
        "colab": {
          "base_uri": "https://localhost:8080/",
          "height": 34
        },
        "outputId": "5a1e6303-71df-4b43-d0e6-94810fb54415"
      },
      "source": [
        "output(curs_dict)"
      ],
      "execution_count": 241,
      "outputs": [
        {
          "output_type": "stream",
          "text": [
            "Валюту USD выгодно было купить 2019-06-04, а продать 2019-06-22. Прибыль: 2.4252\n"
          ],
          "name": "stdout"
        }
      ]
    }
  ]
}