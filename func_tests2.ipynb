{
  "nbformat": 4,
  "nbformat_minor": 0,
  "metadata": {
    "colab": {
      "name": "func tests.ipynb",
      "version": "0.3.2",
      "provenance": [],
      "collapsed_sections": [],
      "include_colab_link": true
    },
    "kernelspec": {
      "name": "python3",
      "display_name": "Python 3"
    }
  },
  "cells": [
    {
      "cell_type": "markdown",
      "metadata": {
        "id": "view-in-github",
        "colab_type": "text"
      },
      "source": [
        "<a href=\"https://colab.research.google.com/github/panzershracker/Web-scraping/blob/master/func_tests2.ipynb\" target=\"_parent\"><img src=\"https://colab.research.google.com/assets/colab-badge.svg\" alt=\"Open In Colab\"/></a>"
      ]
    },
    {
      "cell_type": "code",
      "metadata": {
        "id": "BqJy1JYoiPQf",
        "colab_type": "code",
        "colab": {}
      },
      "source": [
        "import pandas as pd\n",
        "import requests, re\n",
        "from bs4 import BeautifulSoup as soup\n",
        "from pprint import pprint\n",
        "\n"
      ],
      "execution_count": 0,
      "outputs": []
    },
    {
      "cell_type": "code",
      "metadata": {
        "id": "Mzx2Rw0iiaDW",
        "colab_type": "code",
        "colab": {}
      },
      "source": [
        "mask = '[а-я0-9—]+'\n",
        "vacancy = 'программист'\n",
        "language = 'python'\n",
        "city = 'moskva.'\n",
        "salary = '?st=1'\n",
        "page = '&p=1'\n",
        "sort = '?sort=date'"
      ],
      "execution_count": 0,
      "outputs": []
    },
    {
      "cell_type": "code",
      "metadata": {
        "id": "uwEmVuEXiesc",
        "colab_type": "code",
        "colab": {}
      },
      "source": [
        "def get_vac_names():\n",
        "\n",
        "    vac_name = soup(resp.text, 'lxml').find_all('a', {'data-category': \"sourceAway\"})\n",
        "\n",
        "    vac_names = []\n",
        "\n",
        "    for i in range(0, len(vac_name)):\n",
        "        vac_names.append(vac_name[i].getText())\n",
        "\n",
        "    return vac_names\n",
        "\n",
        "\n"
      ],
      "execution_count": 0,
      "outputs": []
    },
    {
      "cell_type": "code",
      "metadata": {
        "id": "5tAdYCBximXW",
        "colab_type": "code",
        "colab": {}
      },
      "source": [
        "def get_salaries():\n",
        "   \n",
        "    h2 = str(soup(resp.text, 'lxml').find_all('h2'))\n",
        "    \n",
        "    b = list(soup(h2, 'lxml').find_all('b'))\n",
        "    \n",
        "    salaries = []\n",
        "    \n",
        "    for i in b:\n",
        "      sal = re.findall(mask, str(i))\n",
        "      salaries.append(''.join(sal))\n",
        "      \n",
        "    return salaries\n",
        "\n"
      ],
      "execution_count": 0,
      "outputs": []
    },
    {
      "cell_type": "code",
      "metadata": {
        "id": "agj-WCx-bHoR",
        "colab_type": "code",
        "colab": {}
      },
      "source": [
        "def get_links():\n",
        "  \n",
        "  vac_link = soup(resp.text, 'lxml').find_all('a', {'data-category': \"sourceAway\"})\n",
        "\n",
        "  vac_links = []\n",
        "\n",
        "  for i in range(0, len(vac_link)):\n",
        "    vac_links.append(vac_link[i].get('href'))\n",
        "        \n",
        "\n",
        "  return vac_links\n"
      ],
      "execution_count": 0,
      "outputs": []
    },
    {
      "cell_type": "code",
      "metadata": {
        "id": "t-k2jIsdruOb",
        "colab_type": "code",
        "colab": {}
      },
      "source": [
        "def salary_separator():\n",
        "  \n",
        "  ot = []\n",
        "  do = []\n",
        "  \n",
        "  salaries = get_salaries()\n",
        "  \n",
        "  for i in salaries:\n",
        "    \n",
        "    if i.startswith('от'):\n",
        "      \n",
        "      ot.append(int(i[2:]))\n",
        "      do.append(0)\n",
        "    \n",
        "    elif i.startswith('до'):\n",
        "      \n",
        "      if i.startswith('дог'):\n",
        "        \n",
        "        ot.append(0)\n",
        "        do.append(0)\n",
        "      \n",
        "      else:\n",
        "        \n",
        "        do.append(int(i[2:]))\n",
        "        ot.append(0)\n",
        "      \n",
        "    else:\n",
        "      \n",
        "      a = i.split('—')\n",
        "      \n",
        "      ot.append(int(a[0]))\n",
        "      do.append(int(a[1]))\n",
        "      \n",
        "  return ot, do"
      ],
      "execution_count": 0,
      "outputs": []
    },
    {
      "cell_type": "code",
      "metadata": {
        "id": "GQCJBV2uvTNq",
        "colab_type": "code",
        "colab": {}
      },
      "source": [
        "# c = '1000—2000'\n",
        "\n",
        "# a, b = c.split('—')\n",
        "\n",
        "# print(a, b)"
      ],
      "execution_count": 0,
      "outputs": []
    },
    {
      "cell_type": "code",
      "metadata": {
        "id": "iusC2N00iobD",
        "colab_type": "code",
        "colab": {}
      },
      "source": [
        "with requests.Session() as session:\n",
        "\n",
        "    session.headers['User-Agent'] = 'Mozilla/5.0 (X11; Linux x86_64; rv:63.0) Gecko/20100101 Firefox/63.0'\n",
        "\n",
        "    url = f'https://{city}gorodrabot.ru/{vacancy}_{language}{sort}{salary}{page}'\n",
        "    resp = session.get(url)\n",
        "\n",
        "    print(f'gorodrabot.ru status code is: {resp.status_code}')\n",
        "\n",
        "    df = pd.DataFrame({'name': get_vac_names(),\n",
        "                       'salary min': salary_separator()[0],\n",
        "                       'salary max': salary_separator()[1],\n",
        "                       'link': get_links()})"
      ],
      "execution_count": 0,
      "outputs": []
    },
    {
      "cell_type": "code",
      "metadata": {
        "id": "kquSJUqzAdyF",
        "colab_type": "code",
        "colab": {
          "base_uri": "https://localhost:8080/",
          "height": 323
        },
        "outputId": "0b44b658-1702-4f58-b446-111d89ec7df6"
      },
      "source": [
        "pprint(get_vac_names())"
      ],
      "execution_count": 19,
      "outputs": [
        {
          "output_type": "stream",
          "text": [
            "['Ведущий разработчик Python',\n",
            " 'Junior Python developer / Начинающий разработчик Python',\n",
            " 'Backend-разработчик (python 3)',\n",
            " 'Backend разработчик на Python во внутреннее облако Яндек...',\n",
            " 'Senior Fullstack разработчик',\n",
            " 'Разработчик интерфейсов',\n",
            " 'Разработчик RPA (UiPath)',\n",
            " 'Программист 1С',\n",
            " 'Программист-разработчик 1С',\n",
            " 'Intelligent R&D Tools Technical Expert',\n",
            " 'Веб-аналитик',\n",
            " 'Руководитель по дистанционному обучению',\n",
            " 'Билд-инженер/Программист Python (Continuous Integration)',\n",
            " 'Разработчик Python',\n",
            " 'Программист Python',\n",
            " 'Разработчик Python',\n",
            " 'Программист 1С',\n",
            " 'Web-программист, Web-разработчик']\n"
          ],
          "name": "stdout"
        }
      ]
    },
    {
      "cell_type": "code",
      "metadata": {
        "id": "JtZw-uPEAi8q",
        "colab_type": "code",
        "colab": {
          "base_uri": "https://localhost:8080/",
          "height": 459
        },
        "outputId": "5f043640-23ce-4a70-a536-829a11cd2059"
      },
      "source": [
        "pprint(get_salaries())"
      ],
      "execution_count": 20,
      "outputs": [
        {
          "output_type": "stream",
          "text": [
            "['договорная',\n",
            " '60000—70000',\n",
            " '100000—200000',\n",
            " 'договорная',\n",
            " 'от150000',\n",
            " 'договорная',\n",
            " 'договорная',\n",
            " 'договорная',\n",
            " 'от80000',\n",
            " 'договорная',\n",
            " 'договорная',\n",
            " 'договорная',\n",
            " 'договорная',\n",
            " 'от120000',\n",
            " 'договорная',\n",
            " 'от300000',\n",
            " 'договорная',\n",
            " 'договорная',\n",
            " 'договорная',\n",
            " 'договорная',\n",
            " 'договорная',\n",
            " '160000—200000',\n",
            " 'договорная',\n",
            " '100000—180000',\n",
            " 'договорная',\n",
            " 'договорная']\n"
          ],
          "name": "stdout"
        }
      ]
    },
    {
      "cell_type": "code",
      "metadata": {
        "id": "J4nxRfOd_46C",
        "colab_type": "code",
        "colab": {
          "base_uri": "https://localhost:8080/",
          "height": 102
        },
        "outputId": "a47572ba-4f22-47de-c2d8-c4b21c766fde"
      },
      "source": [
        "print(len(get_vac_names()))\n",
        "print(len(get_salaries()))\n",
        "print(len(get_links()))\n",
        "print(len(salary_separator()[0]))\n",
        "print(len(salary_separator()[1]))"
      ],
      "execution_count": 21,
      "outputs": [
        {
          "output_type": "stream",
          "text": [
            "18\n",
            "26\n",
            "18\n",
            "26\n",
            "26\n"
          ],
          "name": "stdout"
        }
      ]
    },
    {
      "cell_type": "code",
      "metadata": {
        "id": "H3MatRqbBQ0B",
        "colab_type": "code",
        "colab": {}
      },
      "source": [
        ""
      ],
      "execution_count": 0,
      "outputs": []
    }
  ]
}