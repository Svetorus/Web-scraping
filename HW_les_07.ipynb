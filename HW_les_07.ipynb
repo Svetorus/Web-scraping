{
  "nbformat": 4,
  "nbformat_minor": 0,
  "metadata": {
    "colab": {
      "name": "HW les 07.ipynb",
      "version": "0.3.2",
      "provenance": [],
      "collapsed_sections": [],
      "include_colab_link": true
    },
    "kernelspec": {
      "name": "python3",
      "display_name": "Python 3"
    }
  },
  "cells": [
    {
      "cell_type": "markdown",
      "metadata": {
        "id": "view-in-github",
        "colab_type": "text"
      },
      "source": [
        "<a href=\"https://colab.research.google.com/github/panzershracker/Web-scraping/blob/master/HW_les_07.ipynb\" target=\"_parent\"><img src=\"https://colab.research.google.com/assets/colab-badge.svg\" alt=\"Open In Colab\"/></a>"
      ]
    },
    {
      "cell_type": "code",
      "metadata": {
        "id": "ZJ-gj5N6vuDS",
        "colab_type": "code",
        "colab": {}
      },
      "source": [
        "import pandas as pd\n",
        "import matplotlib.pyplot as plt\n",
        "from matplotlib import cm\n",
        "from pprint import pprint\n",
        "from google.colab import files\n",
        "import plotly \n",
        "from google.colab import files\n",
        "from pylab import rcParams"
      ],
      "execution_count": 0,
      "outputs": []
    },
    {
      "cell_type": "code",
      "metadata": {
        "id": "W_7JqqvexQKE",
        "colab_type": "code",
        "colab": {}
      },
      "source": [
        "# uploaded = files.upload()"
      ],
      "execution_count": 0,
      "outputs": []
    },
    {
      "cell_type": "code",
      "metadata": {
        "id": "lZ6aYhVxzHSJ",
        "colab_type": "code",
        "colab": {}
      },
      "source": [
        "df = pd.read_csv('opendata.csv', encoding='1251')"
      ],
      "execution_count": 0,
      "outputs": []
    },
    {
      "cell_type": "code",
      "metadata": {
        "id": "B34ILLdnoiqX",
        "colab_type": "code",
        "colab": {
          "base_uri": "https://localhost:8080/",
          "height": 35
        },
        "outputId": "4e70abd7-57db-4bcb-9b7e-0b220b7da42e"
      },
      "source": [
        "df.columns"
      ],
      "execution_count": 8,
      "outputs": [
        {
          "output_type": "execute_result",
          "data": {
            "text/plain": [
              "Index(['name', 'region', 'date', 'value'], dtype='object')"
            ]
          },
          "metadata": {
            "tags": []
          },
          "execution_count": 8
        }
      ]
    },
    {
      "cell_type": "code",
      "metadata": {
        "id": "Z_J2sa88-8x8",
        "colab_type": "code",
        "colab": {
          "base_uri": "https://localhost:8080/",
          "height": 104
        },
        "outputId": "b2e3c051-703f-4e48-c317-f98ba9645cd5"
      },
      "source": [
        "df.dtypes"
      ],
      "execution_count": 9,
      "outputs": [
        {
          "output_type": "execute_result",
          "data": {
            "text/plain": [
              "name      object\n",
              "region    object\n",
              "date      object\n",
              "value      int64\n",
              "dtype: object"
            ]
          },
          "metadata": {
            "tags": []
          },
          "execution_count": 9
        }
      ]
    },
    {
      "cell_type": "code",
      "metadata": {
        "id": "txFMyiuV8wd6",
        "colab_type": "code",
        "colab": {}
      },
      "source": [
        "names = df.name.unique()\n",
        "regions = df.region.unique()"
      ],
      "execution_count": 0,
      "outputs": []
    },
    {
      "cell_type": "code",
      "metadata": {
        "id": "ir5EVQxCdrLM",
        "colab_type": "code",
        "colab": {
          "base_uri": "https://localhost:8080/",
          "height": 328
        },
        "outputId": "e224cff3-ffe4-42d5-f347-8357d54e5e12"
      },
      "source": [
        "# Input category name\n",
        "\n",
        "for i in range(0, len(names)):\n",
        "  print(f'{str(i)} - {names[i]}')\n",
        "input_name = int(input(f'\\nВведите цифру индекса типа данных: \\n'))"
      ],
      "execution_count": 82,
      "outputs": [
        {
          "output_type": "stream",
          "text": [
            "0 - Количество заявок на потребительские кредиты\n",
            "1 - Средняя сумма заявки на потребительский кредит\n",
            "2 - Количество заявок на ипотечные кредиты\n",
            "3 - Средняя сумма заявки на ипотечный кредит\n",
            "4 - Количество новых депозитов\n",
            "5 - Средняя сумма нового депозита\n",
            "6 - Средняя зарплата\n",
            "7 - Средняя пенсия\n",
            "8 - В среднем руб. на текущем счете на человека\n",
            "9 - В среднем депозитов в руб. на человека\n",
            "10 - Средние расходы по картам\n",
            "11 - Средний чек в формате Фастфуд\n",
            "12 - Средний чек в формате Ресторан\n",
            "13 - Средние траты в ресторане фастфуд\n",
            "14 - Средние траты в ресторане\n",
            "\n",
            "Введите цифру индекса типа данных: \n",
            "14\n"
          ],
          "name": "stdout"
        }
      ]
    },
    {
      "cell_type": "code",
      "metadata": {
        "id": "a9mrbudNiVzw",
        "colab_type": "code",
        "colab": {
          "base_uri": "https://localhost:8080/",
          "height": 1000
        },
        "outputId": "fc1d6234-b346-4e52-954e-b9a00d179d78"
      },
      "source": [
        "# input region name\n",
        "\n",
        "for i in range(0, len(regions)):\n",
        "  print(f'{str(i)} - {regions[i]}')\n",
        "  \n",
        "input_region = int(input(f'\\nВведите цифру индекса региона: \\n'))"
      ],
      "execution_count": 87,
      "outputs": [
        {
          "output_type": "stream",
          "text": [
            "0 - Россия\n",
            "1 - Алтайский край\n",
            "2 - Амурская область\n",
            "3 - Архангельская область\n",
            "4 - Астраханская область\n",
            "5 - Белгородская область\n",
            "6 - Брянская область\n",
            "7 - Владимирская область\n",
            "8 - Волгоградская область\n",
            "9 - Вологодская область\n",
            "10 - Воронежская область\n",
            "11 - Еврейская автономная область\n",
            "12 - Забайкальский край\n",
            "13 - Ивановская область\n",
            "14 - Иркутская область\n",
            "15 - Кабардино-Балкарская Республика\n",
            "16 - Калининградская область\n",
            "17 - Калужская область\n",
            "18 - Камчатский край\n",
            "19 - Кемеровская область\n",
            "20 - Кировская область\n",
            "21 - Костромская область\n",
            "22 - Краснодарский край\n",
            "23 - Красноярский край\n",
            "24 - Курганская область\n",
            "25 - Курская область\n",
            "26 - Ленинградская область\n",
            "27 - Липецкая область\n",
            "28 - Магаданская область\n",
            "29 - Москва\n",
            "30 - Московская область\n",
            "31 - Мурманская область\n",
            "32 - Ненецкий автономный округ\n",
            "33 - Нижегородская область\n",
            "34 - Новгородская область\n",
            "35 - Новосибирская область\n",
            "36 - Омская область\n",
            "37 - Оренбургская область\n",
            "38 - Орловская область\n",
            "39 - Пензенская область\n",
            "40 - Пермский край\n",
            "41 - Приморский край\n",
            "42 - Псковская область\n",
            "43 - Республика Адыгея\n",
            "44 - Республика Алтай (Горный Алтай)\n",
            "45 - Республика Башкортостан\n",
            "46 - Республика Бурятия\n",
            "47 - Республика Дагестан\n",
            "48 - Республика Ингушетия\n",
            "49 - Республика Калмыкия\n",
            "50 - Республика Карачаево-Черкессия\n",
            "51 - Республика Карелия\n",
            "52 - Республика Коми\n",
            "53 - Республика Марий Эл\n",
            "54 - Республика Мордовия\n",
            "55 - Республика Саха (Якутия)\n",
            "56 - Республика Северная Осетия-Алания\n",
            "57 - Республика Татарстан\n",
            "58 - Республика Тыва\n",
            "59 - Республика Хакасия\n",
            "60 - Ростовская область\n",
            "61 - Рязанская область\n",
            "62 - Самарская область\n",
            "63 - Санкт-Петербург\n",
            "64 - Саратовская область\n",
            "65 - Сахалинская область\n",
            "66 - Свердловская область\n",
            "67 - Смоленская область\n",
            "68 - Ставропольский край\n",
            "69 - Тамбовская область\n",
            "70 - Тверская область\n",
            "71 - Томская область\n",
            "72 - Тульская область\n",
            "73 - Тюменская область\n",
            "74 - Удмуртская Республика\n",
            "75 - Ульяновская область\n",
            "76 - Хабаровский край\n",
            "77 - Ханты-Мансийский автономный округ — Югра\n",
            "78 - Челябинская область\n",
            "79 - Чеченская Республика\n",
            "80 - Чувашская Республика\n",
            "81 - Чукотский автономный округ\n",
            "82 - Ямало-Ненецкий автономный округ\n",
            "83 - Ярославская область\n",
            "\n",
            "Введите цифру индекса региона: \n",
            "29\n"
          ],
          "name": "stdout"
        }
      ]
    },
    {
      "cell_type": "code",
      "metadata": {
        "id": "RmxqGXJ5i8CZ",
        "colab_type": "code",
        "colab": {
          "base_uri": "https://localhost:8080/",
          "height": 116
        },
        "outputId": "bc9f81cd-d4d8-4015-8160-9d922a5bb71d"
      },
      "source": [
        "# input date period\n",
        "\n",
        "input_period_start = input(f'\\nВведите начало временного периода в формате yyyy-mm-dd: \\n')\n",
        "input_period_end = input(f'\\nВведите конец временного периода в формате yyyy-mm-dd: \\n')"
      ],
      "execution_count": 72,
      "outputs": [
        {
          "output_type": "stream",
          "text": [
            "\n",
            "Введите начало временного периода в формате yyyy-mm-dd: \n",
            "2013-01-15\n",
            "\n",
            "Введите конец временного периода в формате yyyy-mm-dd: \n",
            "2019-01-15\n"
          ],
          "name": "stdout"
        }
      ]
    },
    {
      "cell_type": "code",
      "metadata": {
        "id": "a-vIZJkCnYvU",
        "colab_type": "code",
        "colab": {}
      },
      "source": [
        "# convert inputs to variables\n",
        "\n",
        "name = names[input_name]\n",
        "region = regions[input_region]"
      ],
      "execution_count": 0,
      "outputs": []
    },
    {
      "cell_type": "code",
      "metadata": {
        "id": "i-t7xWS0I4m9",
        "colab_type": "code",
        "colab": {}
      },
      "source": [
        "# Main query\n",
        "\n",
        "input_loc_df = df.loc[(df['name'] == name) & (df['region'] == region) & (df['date'].between(input_period_start, input_period_end, inclusive=True))]"
      ],
      "execution_count": 0,
      "outputs": []
    },
    {
      "cell_type": "code",
      "metadata": {
        "id": "f0ppcUqi0PTy",
        "colab_type": "code",
        "colab": {
          "base_uri": "https://localhost:8080/",
          "height": 33
        },
        "outputId": "fd7dea5f-584f-405a-f57b-37e5202b478d"
      },
      "source": [
        "df.date.min(), df.date.max()"
      ],
      "execution_count": 75,
      "outputs": [
        {
          "output_type": "execute_result",
          "data": {
            "text/plain": [
              "('2013-01-15', '2019-01-15')"
            ]
          },
          "metadata": {
            "tags": []
          },
          "execution_count": 75
        }
      ]
    },
    {
      "cell_type": "code",
      "metadata": {
        "id": "a2CF_XJSzoYM",
        "colab_type": "code",
        "colab": {
          "base_uri": "https://localhost:8080/",
          "height": 137
        },
        "outputId": "befd332d-440e-4ada-fa70-4c1dc4ddec3f"
      },
      "source": [
        "input_loc_df.sample(3)"
      ],
      "execution_count": 127,
      "outputs": [
        {
          "output_type": "execute_result",
          "data": {
            "text/html": [
              "<div>\n",
              "<style scoped>\n",
              "    .dataframe tbody tr th:only-of-type {\n",
              "        vertical-align: middle;\n",
              "    }\n",
              "\n",
              "    .dataframe tbody tr th {\n",
              "        vertical-align: top;\n",
              "    }\n",
              "\n",
              "    .dataframe thead th {\n",
              "        text-align: right;\n",
              "    }\n",
              "</style>\n",
              "<table border=\"1\" class=\"dataframe\">\n",
              "  <thead>\n",
              "    <tr style=\"text-align: right;\">\n",
              "      <th></th>\n",
              "      <th>name</th>\n",
              "      <th>region</th>\n",
              "      <th>date</th>\n",
              "      <th>value</th>\n",
              "    </tr>\n",
              "  </thead>\n",
              "  <tbody>\n",
              "    <tr>\n",
              "      <th>72267</th>\n",
              "      <td>Средние траты в ресторане</td>\n",
              "      <td>Москва</td>\n",
              "      <td>2015-11-15</td>\n",
              "      <td>3172</td>\n",
              "    </tr>\n",
              "    <tr>\n",
              "      <th>72288</th>\n",
              "      <td>Средние траты в ресторане</td>\n",
              "      <td>Москва</td>\n",
              "      <td>2017-08-15</td>\n",
              "      <td>3100</td>\n",
              "    </tr>\n",
              "    <tr>\n",
              "      <th>72285</th>\n",
              "      <td>Средние траты в ресторане</td>\n",
              "      <td>Москва</td>\n",
              "      <td>2017-05-15</td>\n",
              "      <td>3054</td>\n",
              "    </tr>\n",
              "  </tbody>\n",
              "</table>\n",
              "</div>"
            ],
            "text/plain": [
              "                            name  region        date  value\n",
              "72267  Средние траты в ресторане  Москва  2015-11-15   3172\n",
              "72288  Средние траты в ресторане  Москва  2017-08-15   3100\n",
              "72285  Средние траты в ресторане  Москва  2017-05-15   3054"
            ]
          },
          "metadata": {
            "tags": []
          },
          "execution_count": 127
        }
      ]
    },
    {
      "cell_type": "code",
      "metadata": {
        "id": "zBV_sEXl0Lj1",
        "colab_type": "code",
        "colab": {
          "base_uri": "https://localhost:8080/",
          "height": 487
        },
        "outputId": "e9fe412d-afc0-47ea-ac45-ef7ec38d13b1"
      },
      "source": [
        "rcParams['figure.figsize'] = 25, 7\n",
        "\n",
        "plt.title(f'{name} в регионе {region} за указанный период', fontsize=25)\n",
        "\n",
        "plt.plot(input_loc_df.date.sort_values(), input_loc_df.value)\n",
        "\n",
        "plt.xticks(rotation=-40, horizontalalignment='left')\n",
        "\n",
        "plt.grid(alpha=0.3)\n",
        "plt.show()"
      ],
      "execution_count": 129,
      "outputs": [
        {
          "output_type": "display_data",
          "data": {
            "image/png": "[encoded data removed]",
            "text/plain": [
              "<Figure size 1800x504 with 1 Axes>"
            ]
          },
          "metadata": {
            "tags": []
          }
        }
      ]
    },
    {
      "cell_type": "code",
      "metadata": {
        "id": "hFo6TZF4Fn6L",
        "colab_type": "code",
        "colab": {}
      },
      "source": [
        ""
      ],
      "execution_count": 0,
      "outputs": []
    }
  ]
}