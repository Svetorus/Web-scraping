{
  "nbformat": 4,
  "nbformat_minor": 0,
  "metadata": {
    "colab": {
      "name": "HW les 06.ipynb",
      "version": "0.3.2",
      "provenance": [],
      "collapsed_sections": [],
      "include_colab_link": true
    },
    "kernelspec": {
      "name": "python3",
      "display_name": "Python 3"
    }
  },
  "cells": [
    {
      "cell_type": "markdown",
      "metadata": {
        "id": "view-in-github",
        "colab_type": "text"
      },
      "source": [
        "<a href=\"https://colab.research.google.com/github/panzershracker/Web-scraping/blob/master/HW_les_06.ipynb\" target=\"_parent\"><img src=\"https://colab.research.google.com/assets/colab-badge.svg\" alt=\"Open In Colab\"/></a>"
      ]
    },
    {
      "cell_type": "code",
      "metadata": {
        "id": "_E4zcS0kAhSO",
        "colab_type": "code",
        "colab": {}
      },
      "source": [
        "# !apt install chromium-chromedriver\n",
        "# !pip install selenium"
      ],
      "execution_count": 0,
      "outputs": []
    },
    {
      "cell_type": "code",
      "metadata": {
        "id": "y-Udg-gtF65x",
        "colab_type": "code",
        "colab": {}
      },
      "source": [
        "from selenium import webdriver\n",
        "options = webdriver.ChromeOptions()\n",
        "options.add_argument('--headless')\n",
        "options.add_argument('--no-sandbox')\n",
        "options.add_argument('--disable-dev-shm-usage')\n",
        "\n",
        "from selenium.webdriver.common.keys import Keys\n",
        "from selenium.webdriver.common.by import By\n",
        "\n",
        "from selenium.webdriver.support.ui import WebDriverWait as wait\n",
        "from selenium.webdriver.support.ui import Select as select\n",
        "from selenium.webdriver.support import expected_conditions as EC\n",
        "\n",
        "from pprint import pprint\n",
        "import pandas as pd\n",
        "import re"
      ],
      "execution_count": 0,
      "outputs": []
    },
    {
      "cell_type": "code",
      "metadata": {
        "id": "YyMA0FJhIKj4",
        "colab_type": "code",
        "colab": {}
      },
      "source": [
        "driver = webdriver.Chrome('chromedriver',options=options)\n",
        "driver.get(\"https://www.mvideo.ru/\")\n"
      ],
      "execution_count": 0,
      "outputs": []
    },
    {
      "cell_type": "code",
      "metadata": {
        "id": "9zJR_PnBIa69",
        "colab_type": "code",
        "colab": {}
      },
      "source": [
        "assert 'М.Видео - интернет-магазин цифровой и бытовой техники и электроники, низкие цены, большой каталог, отзывы. - Москва' in driver.title"
      ],
      "execution_count": 0,
      "outputs": []
    },
    {
      "cell_type": "code",
      "metadata": {
        "id": "GTtl15kBOWwD",
        "colab_type": "code",
        "colab": {
          "base_uri": "https://localhost:8080/",
          "height": 357
        },
        "outputId": "e4f5b565-a8a5-42e3-9d2e-c5adab7f472e"
      },
      "source": [
        "names = driver.find_elements_by_tag_name('h4')[:4]\n",
        "links = driver.find_elements_by_class_name('sel-product-tile-title')[:4]\n",
        "prices = driver.find_elements_by_class_name('c-pdp-price__current')[:4] \n",
        "discounts = driver.find_elements_by_class_name('c-pdp-price__discount')[:4]\n",
        "\n",
        "\n",
        "\n",
        "db_names = []\n",
        "db_links = []\n",
        "db_prices = []\n",
        "db_discounts = []\n",
        "\n",
        "\n",
        "\n",
        "  \n",
        "nxt_btn = driver.find_element_by_class_name('sel-hits-button-next')\n",
        "\n",
        "for i in range(0, 5):\n",
        "\n",
        "  \n",
        "  for name in names:\n",
        "    print(name.get_attribute('title'))\n",
        "    db_names.append(name.get_attribute('title'))\n",
        "\n",
        "  for link in links:\n",
        "    db_links.append(link.get_attribute('href'))\n",
        "\n",
        "  for price in prices:\n",
        "    price.location_once_scrolled_into_view\n",
        "\n",
        "    db_prices.append(int(price.text.replace(' ','')[:-1]))\n",
        "\n",
        "  for discount in discounts:\n",
        "    discount.location_once_scrolled_into_view\n",
        "\n",
        "    db_discounts.append(int(discount.text.replace(' ','')[1:]))\n",
        "    \n",
        "  nxt_btn.location_once_scrolled_into_view\n",
        "  nxt_btn.send_keys(Keys.RETURN)"
      ],
      "execution_count": 243,
      "outputs": [
        {
          "output_type": "stream",
          "text": [
            "Ноутбук Acer Aspire 3 A315-21-64A8 NX.GNVER.065\n",
            "Стиральная машина узкая Hotpoint-Ariston RST 702 ST S\n",
            "Смартфон Samsung Galaxy S10E Оникс\n",
            "Телевизор Samsung UE43RU7200U\n",
            "Ноутбук Acer Aspire 3 A315-21-64A8 NX.GNVER.065\n",
            "Стиральная машина узкая Hotpoint-Ariston RST 702 ST S\n",
            "Смартфон Samsung Galaxy S10E Оникс\n",
            "Телевизор Samsung UE43RU7200U\n",
            "Ноутбук Acer Aspire 3 A315-21-64A8 NX.GNVER.065\n",
            "Стиральная машина узкая Hotpoint-Ariston RST 702 ST S\n",
            "Смартфон Samsung Galaxy S10E Оникс\n",
            "Телевизор Samsung UE43RU7200U\n",
            "Ноутбук Acer Aspire 3 A315-21-64A8 NX.GNVER.065\n",
            "Стиральная машина узкая Hotpoint-Ariston RST 702 ST S\n",
            "Смартфон Samsung Galaxy S10E Оникс\n",
            "Телевизор Samsung UE43RU7200U\n",
            "Ноутбук Acer Aspire 3 A315-21-64A8 NX.GNVER.065\n",
            "Стиральная машина узкая Hotpoint-Ariston RST 702 ST S\n",
            "Смартфон Samsung Galaxy S10E Оникс\n",
            "Телевизор Samsung UE43RU7200U\n"
          ],
          "name": "stdout"
        }
      ]
    },
    {
      "cell_type": "code",
      "metadata": {
        "id": "KBSC44SExNCy",
        "colab_type": "code",
        "colab": {}
      },
      "source": [
        "# nxt_btn = driver.find_element_by_class_name('carousel-paging')\n",
        "\n",
        "# nxt_btn = nxt_btn.find_elements_by_tag_name('a')[0:5]\n",
        "\n",
        "# for i in nxt_btn:\n",
        "#   print(i.text)"
      ],
      "execution_count": 0,
      "outputs": []
    },
    {
      "cell_type": "code",
      "metadata": {
        "id": "94q-DujdljDd",
        "colab_type": "code",
        "colab": {}
      },
      "source": [
        "print(db_names)\n",
        "print(db_links)\n",
        "print(db_prices)\n",
        "print(db_discounts)"
      ],
      "execution_count": 0,
      "outputs": []
    },
    {
      "cell_type": "code",
      "metadata": {
        "id": "PIfqEUbxynBH",
        "colab_type": "code",
        "colab": {}
      },
      "source": [
        "# driver.quit()"
      ],
      "execution_count": 0,
      "outputs": []
    }
  ]
}