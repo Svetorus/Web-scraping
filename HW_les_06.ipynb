{
  "nbformat": 4,
  "nbformat_minor": 0,
  "metadata": {
    "colab": {
      "name": "HW les 06.ipynb",
      "version": "0.3.2",
      "provenance": [],
      "collapsed_sections": [],
      "include_colab_link": true
    },
    "kernelspec": {
      "name": "python3",
      "display_name": "Python 3"
    }
  },
  "cells": [
    {
      "cell_type": "markdown",
      "metadata": {
        "id": "view-in-github",
        "colab_type": "text"
      },
      "source": [
        "<a href=\"https://colab.research.google.com/github/panzershracker/Web-scraping/blob/master/HW_les_06.ipynb\" target=\"_parent\"><img src=\"https://colab.research.google.com/assets/colab-badge.svg\" alt=\"Open In Colab\"/></a>"
      ]
    },
    {
      "cell_type": "code",
      "metadata": {
        "id": "_E4zcS0kAhSO",
        "colab_type": "code",
        "colab": {}
      },
      "source": [
        "# !apt install chromium-chromedriver\n",
        "# !pip install selenium"
      ],
      "execution_count": 0,
      "outputs": []
    },
    {
      "cell_type": "code",
      "metadata": {
        "id": "y-Udg-gtF65x",
        "colab_type": "code",
        "colab": {}
      },
      "source": [
        "from selenium import webdriver\n",
        "options = webdriver.ChromeOptions()\n",
        "options.add_argument('--headless')\n",
        "options.add_argument('--no-sandbox')\n",
        "options.add_argument('--disable-dev-shm-usage')\n",
        "\n",
        "from selenium.webdriver.common.keys import Keys\n",
        "from selenium.webdriver.support.ui import WebDriverWait as wait\n",
        "from selenium.webdriver.support import expected_conditions as EC\n",
        "\n",
        "from pprint import pprint\n",
        "import pandas as pd\n",
        "import re"
      ],
      "execution_count": 0,
      "outputs": []
    },
    {
      "cell_type": "code",
      "metadata": {
        "id": "YyMA0FJhIKj4",
        "colab_type": "code",
        "colab": {}
      },
      "source": [
        "driver = webdriver.Chrome('chromedriver',options=options)\n",
        "driver.get(\"https://www.mvideo.ru/\")\n"
      ],
      "execution_count": 0,
      "outputs": []
    },
    {
      "cell_type": "code",
      "metadata": {
        "id": "9zJR_PnBIa69",
        "colab_type": "code",
        "colab": {}
      },
      "source": [
        "assert 'М.Видео - интернет-магазин цифровой и бытовой техники и электроники, низкие цены, большой каталог, отзывы. - Москва' in driver.title"
      ],
      "execution_count": 0,
      "outputs": []
    },
    {
      "cell_type": "code",
      "metadata": {
        "id": "GTtl15kBOWwD",
        "colab_type": "code",
        "colab": {}
      },
      "source": [
        "names = driver.find_elements_by_tag_name('h4')[:4]\n",
        "links = driver.find_elements_by_class_name('sel-product-tile-title')[:4]\n",
        "prices = driver.find_elements_by_class_name('c-pdp-price__current')[:3] #Сделать [:4]\n",
        "\n",
        "\n",
        "\n",
        "db_names = []\n",
        "db_links = []\n",
        "db_prices = []\n",
        "\n",
        "for name in names:\n",
        "  db_names.append(name.get_attribute('title'))\n",
        "\n",
        "for link in links:\n",
        "  db_links.append(link.get_attribute('href'))\n",
        "  \n",
        "for price in prices:\n",
        "  db_prices.append(int(price.text.replace(' ','')[:-1]))"
      ],
      "execution_count": 0,
      "outputs": []
    },
    {
      "cell_type": "code",
      "metadata": {
        "id": "nuSOXPZR_KYU",
        "colab_type": "code",
        "outputId": "942ca89e-0fc7-4c1a-b45f-fb20a696fbaf",
        "colab": {
          "base_uri": "https://localhost:8080/",
          "height": 34
        }
      },
      "source": [
        "print(db_prices)"
      ],
      "execution_count": 8,
      "outputs": [
        {
          "output_type": "stream",
          "text": [
            "[19990, 19990, 49990]\n"
          ],
          "name": "stdout"
        }
      ]
    },
    {
      "cell_type": "code",
      "metadata": {
        "id": "PIfqEUbxynBH",
        "colab_type": "code",
        "colab": {}
      },
      "source": [
        "# driver.quit()"
      ],
      "execution_count": 0,
      "outputs": []
    }
  ]
}