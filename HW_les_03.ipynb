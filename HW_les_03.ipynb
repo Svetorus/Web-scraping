{
  "nbformat": 4,
  "nbformat_minor": 0,
  "metadata": {
    "colab": {
      "name": "HW les 03",
      "version": "0.3.2",
      "provenance": [],
      "collapsed_sections": [],
      "include_colab_link": true
    },
    "kernelspec": {
      "name": "python3",
      "display_name": "Python 3"
    }
  },
  "cells": [
    {
      "cell_type": "markdown",
      "metadata": {
        "id": "view-in-github",
        "colab_type": "text"
      },
      "source": [
        "<a href=\"https://colab.research.google.com/github/panzershracker/Web-scraping/blob/master/HW_les_03.ipynb\" target=\"_parent\"><img src=\"https://colab.research.google.com/assets/colab-badge.svg\" alt=\"Open In Colab\"/></a>"
      ]
    },
    {
      "cell_type": "code",
      "metadata": {
        "id": "vJLNG7p5lNtV",
        "colab_type": "code",
        "colab": {}
      },
      "source": [
        "import pandas as pd \n",
        "import requests\n",
        "from bs4 import BeautifulSoup as soup\n",
        "from pprint import pprint\n"
      ],
      "execution_count": 0,
      "outputs": []
    },
    {
      "cell_type": "code",
      "metadata": {
        "id": "JyMzvBXzq4Vu",
        "colab_type": "code",
        "colab": {}
      },
      "source": [
        "vacancy = \"программист\"\n",
        "language = 'python'\n",
        "salary_show = 'true'\n",
        "page = 'page='+ str(1)"
      ],
      "execution_count": 0,
      "outputs": []
    },
    {
      "cell_type": "code",
      "metadata": {
        "id": "wEj4_xoQkn54",
        "colab_type": "code",
        "colab": {
          "base_uri": "https://localhost:8080/",
          "height": 35
        },
        "outputId": "36cd841a-a26a-45a3-fa7c-8d1ddfded5f6"
      },
      "source": [
        "with requests.Session() as ses:\n",
        "\n",
        "  ses.headers['User-Agent'] = 'Mozilla/5.0 (X11; Linux x86_64; rv:63.0) Gecko/20100101 Firefox/63.0'\n",
        "  \n",
        "  hh = (f'https://hh.ru/search/vacancy?only_with_salary={salary_show}&text={vacancy}+{language}&{page}')\n",
        "\n",
        "  hh_resp = ses.get(hh)\n",
        "  \n",
        "  print(f'hh status is: {hh_resp.status_code}')\n"
      ],
      "execution_count": 364,
      "outputs": [
        {
          "output_type": "stream",
          "text": [
            "hh status is: 200\n"
          ],
          "name": "stdout"
        }
      ]
    },
    {
      "cell_type": "code",
      "metadata": {
        "id": "wgiwemcWyM5J",
        "colab_type": "code",
        "colab": {}
      },
      "source": [
        "def get_vac_names():\n",
        "  \n",
        "  # блок названий вакансий hh.ru\n",
        "  hh_vac_name = soup(hh_resp.text, 'lxml').find_all('a', {'class':\"bloko-link HH-LinkModifier\"})\n",
        "\n",
        "  hh_vac_names = []\n",
        "\n",
        "  for i in range(0, len(hh_vac_name)):\n",
        "    hh_vac_names.append(hh_vac_name[i].getText())\n",
        "    \n",
        "  return hh_vac_names"
      ],
      "execution_count": 0,
      "outputs": []
    },
    {
      "cell_type": "code",
      "metadata": {
        "id": "BHlsmuJT5AAt",
        "colab_type": "code",
        "colab": {}
      },
      "source": [
        "def get_salaries():\n",
        "\n",
        "  vac_salary = soup(resp.text, 'lxml').find_all('div', {'class':'vacancy-serp-item__compensation'})\n",
        "\n",
        "  vac_salaries = []\n",
        "\n",
        "  for i in range(0, len(vac_salary)):\n",
        "    vac_salaries.append(vac_salary[i].get_text().replace('\\xa0', ''))\n",
        "    \n",
        "  return vac_salaries"
      ],
      "execution_count": 0,
      "outputs": []
    },
    {
      "cell_type": "code",
      "metadata": {
        "id": "Yx1pTNdh_4kQ",
        "colab_type": "code",
        "colab": {}
      },
      "source": [
        "def get_links():\n",
        "\n",
        "  vac_link = soup(resp.text, 'lxml').find_all('a', {'class':'bloko-link HH-LinkModifier'})\n",
        "\n",
        "  vac_links = []\n",
        "\n",
        "  for i in range(0, len(vac_link)):\n",
        "    vac_links.append(vac_link[i].get('href'))\n",
        "\n",
        "  return vac_links"
      ],
      "execution_count": 0,
      "outputs": []
    },
    {
      "cell_type": "code",
      "metadata": {
        "id": "cbPC1CPeHm-p",
        "colab_type": "code",
        "colab": {}
      },
      "source": [
        "# result table:\n",
        "\n",
        "df = pd.DataFrame({'name': get_vac_names(),\n",
        "                  'salary': get_salaries(),\n",
        "                  'link': get_links()})\n",
        "                "
      ],
      "execution_count": 0,
      "outputs": []
    },
    {
      "cell_type": "code",
      "metadata": {
        "id": "Nxf47mMDMSao",
        "colab_type": "code",
        "colab": {
          "base_uri": "https://localhost:8080/",
          "height": 343
        },
        "outputId": "b347d313-17cf-41ae-ed6c-c58518754fcb"
      },
      "source": [
        "df.head(10)"
      ],
      "execution_count": 369,
      "outputs": [
        {
          "output_type": "execute_result",
          "data": {
            "text/html": [
              "<div>\n",
              "<style scoped>\n",
              "    .dataframe tbody tr th:only-of-type {\n",
              "        vertical-align: middle;\n",
              "    }\n",
              "\n",
              "    .dataframe tbody tr th {\n",
              "        vertical-align: top;\n",
              "    }\n",
              "\n",
              "    .dataframe thead th {\n",
              "        text-align: right;\n",
              "    }\n",
              "</style>\n",
              "<table border=\"1\" class=\"dataframe\">\n",
              "  <thead>\n",
              "    <tr style=\"text-align: right;\">\n",
              "      <th></th>\n",
              "      <th>name</th>\n",
              "      <th>salary</th>\n",
              "      <th>link</th>\n",
              "    </tr>\n",
              "  </thead>\n",
              "  <tbody>\n",
              "    <tr>\n",
              "      <th>0</th>\n",
              "      <td>Программист Python (в Ригу)</td>\n",
              "      <td>до 200000 руб.</td>\n",
              "      <td>https://hh.ru/vacancy/32588902?query=%D0%BF%D1...</td>\n",
              "    </tr>\n",
              "    <tr>\n",
              "      <th>1</th>\n",
              "      <td>Разработчик Python/Django + React.js</td>\n",
              "      <td>160000-200000 руб.</td>\n",
              "      <td>https://hh.ru/vacancy/31624245?query=%D0%BF%D1...</td>\n",
              "    </tr>\n",
              "    <tr>\n",
              "      <th>2</th>\n",
              "      <td>Разработчик Python/Django + React.js</td>\n",
              "      <td>120000-180000 руб.</td>\n",
              "      <td>https://hh.ru/vacancy/32913880?query=%D0%BF%D1...</td>\n",
              "    </tr>\n",
              "    <tr>\n",
              "      <th>3</th>\n",
              "      <td>Разработчик Python/Django + React.js</td>\n",
              "      <td>90000-120000 руб.</td>\n",
              "      <td>https://hh.ru/vacancy/33023538?query=%D0%BF%D1...</td>\n",
              "    </tr>\n",
              "    <tr>\n",
              "      <th>4</th>\n",
              "      <td>Программист Python</td>\n",
              "      <td>2000-3000 EUR</td>\n",
              "      <td>https://hh.ru/vacancy/32740537?query=%D0%BF%D1...</td>\n",
              "    </tr>\n",
              "    <tr>\n",
              "      <th>5</th>\n",
              "      <td>Младший разработчик (Python, Selenium)</td>\n",
              "      <td>100000-120000 руб.</td>\n",
              "      <td>https://hh.ru/vacancy/32999518?query=%D0%BF%D1...</td>\n",
              "    </tr>\n",
              "    <tr>\n",
              "      <th>6</th>\n",
              "      <td>Программист Python</td>\n",
              "      <td>от 95000 руб.</td>\n",
              "      <td>https://hh.ru/vacancy/31559789?query=%D0%BF%D1...</td>\n",
              "    </tr>\n",
              "    <tr>\n",
              "      <th>7</th>\n",
              "      <td>Программист Python, Go</td>\n",
              "      <td>от 160000 руб.</td>\n",
              "      <td>https://hh.ru/vacancy/33007208?query=%D0%BF%D1...</td>\n",
              "    </tr>\n",
              "    <tr>\n",
              "      <th>8</th>\n",
              "      <td>Инженер-программист/веб-программист</td>\n",
              "      <td>от 90000 руб.</td>\n",
              "      <td>https://hh.ru/vacancy/32719006?query=%D0%BF%D1...</td>\n",
              "    </tr>\n",
              "    <tr>\n",
              "      <th>9</th>\n",
              "      <td>Python developer (Cloud)</td>\n",
              "      <td>от 300000 руб.</td>\n",
              "      <td>https://hh.ru/vacancy/32702965?query=%D0%BF%D1...</td>\n",
              "    </tr>\n",
              "  </tbody>\n",
              "</table>\n",
              "</div>"
            ],
            "text/plain": [
              "                                     name  ...                                               link\n",
              "0             Программист Python (в Ригу)  ...  https://hh.ru/vacancy/32588902?query=%D0%BF%D1...\n",
              "1    Разработчик Python/Django + React.js  ...  https://hh.ru/vacancy/31624245?query=%D0%BF%D1...\n",
              "2    Разработчик Python/Django + React.js  ...  https://hh.ru/vacancy/32913880?query=%D0%BF%D1...\n",
              "3    Разработчик Python/Django + React.js  ...  https://hh.ru/vacancy/33023538?query=%D0%BF%D1...\n",
              "4                      Программист Python  ...  https://hh.ru/vacancy/32740537?query=%D0%BF%D1...\n",
              "5  Младший разработчик (Python, Selenium)  ...  https://hh.ru/vacancy/32999518?query=%D0%BF%D1...\n",
              "6                      Программист Python  ...  https://hh.ru/vacancy/31559789?query=%D0%BF%D1...\n",
              "7                  Программист Python, Go  ...  https://hh.ru/vacancy/33007208?query=%D0%BF%D1...\n",
              "8     Инженер-программист/веб-программист  ...  https://hh.ru/vacancy/32719006?query=%D0%BF%D1...\n",
              "9                Python developer (Cloud)  ...  https://hh.ru/vacancy/32702965?query=%D0%BF%D1...\n",
              "\n",
              "[10 rows x 3 columns]"
            ]
          },
          "metadata": {
            "tags": []
          },
          "execution_count": 369
        }
      ]
    }
  ]
}