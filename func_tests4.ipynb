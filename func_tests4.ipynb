{
  "nbformat": 4,
  "nbformat_minor": 0,
  "metadata": {
    "colab": {
      "name": "func tests.ipynb",
      "version": "0.3.2",
      "provenance": [],
      "collapsed_sections": [],
      "include_colab_link": true
    },
    "kernelspec": {
      "name": "python3",
      "display_name": "Python 3"
    }
  },
  "cells": [
    {
      "cell_type": "markdown",
      "metadata": {
        "id": "view-in-github",
        "colab_type": "text"
      },
      "source": [
        "<a href=\"https://colab.research.google.com/github/panzershracker/Web-scraping/blob/master/func_tests4.ipynb\" target=\"_parent\"><img src=\"https://colab.research.google.com/assets/colab-badge.svg\" alt=\"Open In Colab\"/></a>"
      ]
    },
    {
      "cell_type": "code",
      "metadata": {
        "id": "BqJy1JYoiPQf",
        "colab_type": "code",
        "colab": {}
      },
      "source": [
        "import pandas as pd\n",
        "import numpy as np\n",
        "import requests, re\n",
        "import time as timer\n",
        "from datetime import datetime, date, time, timedelta\n",
        "from bs4 import BeautifulSoup as soup\n",
        "from pprint import pprint\n",
        "\n"
      ],
      "execution_count": 0,
      "outputs": []
    },
    {
      "cell_type": "code",
      "metadata": {
        "id": "mALHhtOFpA0x",
        "colab_type": "code",
        "colab": {}
      },
      "source": [
        "def get_vac_names(resp_text):\n",
        "  \n",
        "  div = str(resp_text.find_all('div', {'class': ['clearfix vacancy premium ',\n",
        "                                                 'clearfix vacancy']}))\n",
        "\n",
        "  h2 = soup(div, 'lxml').find_all('h2')\n",
        "\n",
        "  vac_names = []\n",
        "\n",
        "  for i in h2:\n",
        "\n",
        "    vac_names.append(i.a.getText())\n",
        "\n",
        "  return vac_names"
      ],
      "execution_count": 0,
      "outputs": []
    },
    {
      "cell_type": "code",
      "metadata": {
        "id": "h-LxGUaV5-Se",
        "colab_type": "code",
        "colab": {}
      },
      "source": [
        "def time_ago(resp_text):\n",
        "  \n",
        "  span = resp_text.find_all('span', {'class': 'date'})\n",
        "  \n",
        "  time_ago = []\n",
        "  \n",
        "  for i in range(0, len(span)):\n",
        "    time = span[i].find(text=True, recursive=False).replace('  ', '')[1:]\n",
        "    time_ago.append(time)\n",
        "    \n",
        "  return time_ago\n",
        "  "
      ],
      "execution_count": 0,
      "outputs": []
    },
    {
      "cell_type": "code",
      "metadata": {
        "id": "qO1E8KL0Rmdu",
        "colab_type": "code",
        "colab": {}
      },
      "source": [
        "def post_datetime(time_ago, resp_text):\n",
        "  \n",
        "  time_ago = time_ago(resp_text)  \n",
        " \n",
        "  date_time = []\n",
        "  \n",
        "  for i in time_ago:\n",
        "    \n",
        "    now = datetime.now()\n",
        "      \n",
        "    if not i:\n",
        "      date_time.append(0)\n",
        "      \n",
        "    else: \n",
        "\n",
        "      num, rest = i.split(' ', 1)\n",
        "\n",
        "      if rest.startswith('ч'):\n",
        "        date_time.append(now - timedelta(hours= int(num)))\n",
        "\n",
        "      elif rest.startswith('д'):\n",
        "        date_time.append(now - timedelta(days= int(num)))\n",
        "\n",
        "      elif rest.startswith('н'):\n",
        "        date_time.append(now - timedelta(weeks= int(num)))\n",
        "\n",
        "      elif rest.startswith('м'):\n",
        "        date_time.append(now - timedelta(weeks= int(num)*4))\n",
        "\n",
        "      else:\n",
        "        date_time.append(0)\n",
        "\n",
        "    \n",
        "  return date_time\n",
        "  "
      ],
      "execution_count": 0,
      "outputs": []
    },
    {
      "cell_type": "code",
      "metadata": {
        "id": "kbEQikW-zGAv",
        "colab_type": "code",
        "colab": {}
      },
      "source": [
        "def get_salaries(resp_text):\n",
        "   \n",
        "    h2 = resp_text.find_all('h2')\n",
        "        \n",
        "    salaries = []\n",
        "    \n",
        "    for i in h2:\n",
        "      sal = re.findall(mask, i.b.getText())\n",
        "      salaries.append(''.join(sal))\n",
        "      \n",
        "    return salaries"
      ],
      "execution_count": 0,
      "outputs": []
    },
    {
      "cell_type": "code",
      "metadata": {
        "id": "agj-WCx-bHoR",
        "colab_type": "code",
        "colab": {}
      },
      "source": [
        "def get_links(resp_text):\n",
        "  \n",
        "  div = str(soup(resp.text, 'lxml').find_all('div', {'class': ['clearfix vacancy premium ',\n",
        "                                                                 'clearfix vacancy']}))\n",
        "  h2 = str(soup(div, 'lxml').find_all('h2'))\n",
        "  \n",
        "  a = list(soup(h2, 'lxml').find_all('a'))\n",
        "  \n",
        "  vac_links = []\n",
        "\n",
        "  for i in range(0, len(a)):\n",
        "    vac_links.append('http://gorodrabot.ru' + a[i].get('href'))\n",
        "        \n",
        "\n",
        "  return vac_links\n"
      ],
      "execution_count": 0,
      "outputs": []
    },
    {
      "cell_type": "markdown",
      "metadata": {
        "id": "MdXQcUxQ8HVn",
        "colab_type": "text"
      },
      "source": [
        "# ! TODO \n",
        "\n",
        "### Переделать без множественного парсинга в функциях\n",
        "(get_links, hirer, get_comp и тд, где возможно)"
      ]
    },
    {
      "cell_type": "code",
      "metadata": {
        "id": "XumD0s4wd98A",
        "colab_type": "code",
        "colab": {}
      },
      "source": [
        "def hirer(resp_text):\n",
        "  \n",
        "  div = str(soup(resp.text, 'lxml').find_all('div', {'class': ['clearfix vacancy premium ',\n",
        "                                                                 'clearfix vacancy']}))\n",
        "  h2 = str(soup(div, 'lxml').find_all('h2'))\n",
        "  \n",
        "  a = list(soup(h2, 'lxml').find_all('a'))\n",
        "  \n",
        "  hirers = []\n",
        "\n",
        "  for i in range(0, len(a)):\n",
        "    hirers.append(a[i].get('data-action'))\n",
        "        \n",
        "\n",
        "  return hirers"
      ],
      "execution_count": 0,
      "outputs": []
    },
    {
      "cell_type": "code",
      "metadata": {
        "id": "_KGwNFsTgpK_",
        "colab_type": "code",
        "colab": {}
      },
      "source": [
        "# def get_comp():\n",
        "  \n",
        "#   div = str(soup(resp.text, 'lxml').find_all('div', {'class': ['clearfix vacancy premium ',\n",
        "#                                                                'clearfix vacancy']}))\n",
        "#   div = str(soup(div, 'lxml').find_all('div', {'class': 'address'}))\n",
        "  \n",
        "#   span = list(soup(div, 'lxml').find_all('span'))\n",
        "  \n",
        "#   comp = []\n",
        "  \n",
        "#   for i in range(0, len(span)):\n",
        "#     comp.append(span[i])\n",
        "\n",
        "#   return comp"
      ],
      "execution_count": 0,
      "outputs": []
    },
    {
      "cell_type": "markdown",
      "metadata": {
        "id": "J6jT_vmhp3B6",
        "colab_type": "text"
      },
      "source": [
        "# ! TODO\n",
        "\n",
        "### Доделать вывод названия компаний."
      ]
    },
    {
      "cell_type": "code",
      "metadata": {
        "id": "t-k2jIsdruOb",
        "colab_type": "code",
        "colab": {}
      },
      "source": [
        "def salary_separator(resp_text):\n",
        "  \n",
        "  ot = []\n",
        "  do = []\n",
        "  \n",
        "  salaries = get_salaries(resp_text)\n",
        "  \n",
        "  for i in salaries:\n",
        "    \n",
        "    if i.startswith('от'):\n",
        "      ot.append(int(i[2:]))\n",
        "      do.append(0)\n",
        "    \n",
        "    elif i.startswith('до'):\n",
        "      \n",
        "      if i.startswith('дог'):        \n",
        "        ot.append(-1)\n",
        "        do.append(-1)\n",
        "      \n",
        "      else:        \n",
        "        do.append(int(i[2:]))\n",
        "        ot.append(0)\n",
        "        \n",
        "#     elif i[0].isnumeric():      \n",
        "#       ot.append(int(i))\n",
        "#       do.append(int(i))\n",
        "            \n",
        "    else:      \n",
        "      a = i.split('—')\n",
        "      \n",
        "      ot.append(int(a[0]))\n",
        "      do.append(int(a[1]))\n",
        "      \n",
        "  return ot, do"
      ],
      "execution_count": 0,
      "outputs": []
    },
    {
      "cell_type": "code",
      "metadata": {
        "id": "Zt4Q_SSQD-FD",
        "colab_type": "code",
        "colab": {}
      },
      "source": [
        "def temp_df(time_ago, resp_text):\n",
        "  \n",
        "  df = pd.DataFrame({'vacancy': get_vac_names(resp_text),\n",
        "                   'salary min': salary_separator(resp_text)[0],\n",
        "                   'salary max': salary_separator(resp_text)[1],\n",
        "                   'link': get_links(resp_text),\n",
        "                   'from': hirer(resp_text),\n",
        "                   'datetime': post_datetime(time_ago, resp_text)})\n",
        "  \n",
        "  return df"
      ],
      "execution_count": 0,
      "outputs": []
    },
    {
      "cell_type": "code",
      "metadata": {
        "id": "lXwJ0xtJAzWR",
        "colab_type": "code",
        "colab": {}
      },
      "source": [
        "mask = '[а-я0-9—]+'\n",
        "vacancy = 'программист'\n",
        "language = 'python'\n",
        "city = 'moskva.'\n",
        "salary = '?st=1'"
      ],
      "execution_count": 0,
      "outputs": []
    },
    {
      "cell_type": "code",
      "metadata": {
        "id": "Pi65NqSbAQTI",
        "colab_type": "code",
        "colab": {}
      },
      "source": [
        "result = pd.DataFrame(columns=['vacancy',\n",
        "                               'salary min',\n",
        "                               'salary max',\n",
        "                               'link',\n",
        "                               'from',\n",
        "                               'datetime'])"
      ],
      "execution_count": 0,
      "outputs": []
    },
    {
      "cell_type": "code",
      "metadata": {
        "id": "_cSJsK1p626a",
        "colab_type": "code",
        "outputId": "639f3753-a6df-45d2-ae00-d64ae4ad7890",
        "colab": {
          "base_uri": "https://localhost:8080/",
          "height": 228
        }
      },
      "source": [
        "with requests.Session() as session:\n",
        "  \n",
        "    for i in range(1, 5):\n",
        "      \n",
        "      page = f'&p={i}'\n",
        "\n",
        "      session.headers['User-Agent'] = 'Mozilla/5.0 (X11; Linux x86_64; rv:63.0) Gecko/20100101 Firefox/63.0'\n",
        "\n",
        "      url = f'https://{city}gorodrabot.ru/{vacancy}_{language}{salary}{page}'\n",
        "      resp = session.get(url)\n",
        "      \n",
        "      timer.sleep(10)\n",
        "\n",
        "      resp_text = soup(resp.text, 'lxml')\n",
        "\n",
        "      print(f'gorodrabot.ru status code is: {resp.status_code}\\n'\n",
        "            f'Обработка страницы {i}\\n')\n",
        "\n",
        "      df = temp_df(time_ago, resp_text)\n",
        "      \n",
        "      result = result.append(df, ignore_index=True)"
      ],
      "execution_count": 308,
      "outputs": [
        {
          "output_type": "stream",
          "text": [
            "gorodrabot.ru status code is: 200\n",
            "Обработка страницы 1\n",
            "\n",
            "gorodrabot.ru status code is: 200\n",
            "Обработка страницы 2\n",
            "\n",
            "gorodrabot.ru status code is: 200\n",
            "Обработка страницы 3\n",
            "\n",
            "gorodrabot.ru status code is: 200\n",
            "Обработка страницы 4\n",
            "\n"
          ],
          "name": "stdout"
        }
      ]
    },
    {
      "cell_type": "code",
      "metadata": {
        "id": "bHP5dWC-H2sE",
        "colab_type": "code",
        "outputId": "c251775f-9a2b-4976-ffb4-339af820ea2b",
        "colab": {
          "base_uri": "https://localhost:8080/",
          "height": 210
        }
      },
      "source": [
        "result.info()"
      ],
      "execution_count": 309,
      "outputs": [
        {
          "output_type": "stream",
          "text": [
            "<class 'pandas.core.frame.DataFrame'>\n",
            "RangeIndex: 107 entries, 0 to 106\n",
            "Data columns (total 6 columns):\n",
            "vacancy       107 non-null object\n",
            "salary min    107 non-null object\n",
            "salary max    107 non-null object\n",
            "link          107 non-null object\n",
            "from          106 non-null object\n",
            "datetime      107 non-null object\n",
            "dtypes: object(6)\n",
            "memory usage: 5.1+ KB\n"
          ],
          "name": "stdout"
        }
      ]
    },
    {
      "cell_type": "code",
      "metadata": {
        "id": "Krhnr-xgH7nW",
        "colab_type": "code",
        "outputId": "76da41e1-723d-464d-8ac3-7afba6b6658d",
        "colab": {
          "base_uri": "https://localhost:8080/",
          "height": 520
        }
      },
      "source": [
        "result.head(10)"
      ],
      "execution_count": 310,
      "outputs": [
        {
          "output_type": "execute_result",
          "data": {
            "text/html": [
              "<div>\n",
              "<style scoped>\n",
              "    .dataframe tbody tr th:only-of-type {\n",
              "        vertical-align: middle;\n",
              "    }\n",
              "\n",
              "    .dataframe tbody tr th {\n",
              "        vertical-align: top;\n",
              "    }\n",
              "\n",
              "    .dataframe thead th {\n",
              "        text-align: right;\n",
              "    }\n",
              "</style>\n",
              "<table border=\"1\" class=\"dataframe\">\n",
              "  <thead>\n",
              "    <tr style=\"text-align: right;\">\n",
              "      <th></th>\n",
              "      <th>vacancy</th>\n",
              "      <th>salary min</th>\n",
              "      <th>salary max</th>\n",
              "      <th>link</th>\n",
              "      <th>from</th>\n",
              "      <th>datetime</th>\n",
              "    </tr>\n",
              "  </thead>\n",
              "  <tbody>\n",
              "    <tr>\n",
              "      <th>0</th>\n",
              "      <td>Программист php</td>\n",
              "      <td>50000</td>\n",
              "      <td>70000</td>\n",
              "      <td>http://gorodrabot.ru/vacancy/198375260/program...</td>\n",
              "      <td>rabota.ru</td>\n",
              "      <td>2019-08-06 13:10:38.512665</td>\n",
              "    </tr>\n",
              "    <tr>\n",
              "      <th>1</th>\n",
              "      <td>Frontend разработчик</td>\n",
              "      <td>120000</td>\n",
              "      <td>0</td>\n",
              "      <td>http://gorodrabot.ru/vacancy/199750234/fronten...</td>\n",
              "      <td>rabota.ru</td>\n",
              "      <td>2019-08-14 13:10:38.512709</td>\n",
              "    </tr>\n",
              "    <tr>\n",
              "      <th>2</th>\n",
              "      <td>Backend-разработчик (python 3)</td>\n",
              "      <td>100000</td>\n",
              "      <td>200000</td>\n",
              "      <td>http://gorodrabot.ru/vacancy/193786676/backend...</td>\n",
              "      <td>talents.yandex.ru</td>\n",
              "      <td>2019-08-20 05:10:38.512713</td>\n",
              "    </tr>\n",
              "    <tr>\n",
              "      <th>3</th>\n",
              "      <td>Windows-разработчик со знанием JS</td>\n",
              "      <td>80000</td>\n",
              "      <td>0</td>\n",
              "      <td>http://gorodrabot.ru/vacancy/198424878/windows...</td>\n",
              "      <td>None</td>\n",
              "      <td>0</td>\n",
              "    </tr>\n",
              "    <tr>\n",
              "      <th>4</th>\n",
              "      <td>Intelligent R&amp;D Tools Technical Expert</td>\n",
              "      <td>300000</td>\n",
              "      <td>0</td>\n",
              "      <td>http://gorodrabot.ru/vacancy/196539228/intelli...</td>\n",
              "      <td>kellyservices.ru</td>\n",
              "      <td>2019-07-30 13:10:38.512720</td>\n",
              "    </tr>\n",
              "    <tr>\n",
              "      <th>5</th>\n",
              "      <td>Разработчик Python</td>\n",
              "      <td>100000</td>\n",
              "      <td>180000</td>\n",
              "      <td>http://gorodrabot.ru/vacancy/199205772/razrabo...</td>\n",
              "      <td>hh.ru</td>\n",
              "      <td>2019-08-19 14:10:38.512724</td>\n",
              "    </tr>\n",
              "    <tr>\n",
              "      <th>6</th>\n",
              "      <td>Разработчик Python Backend</td>\n",
              "      <td>150000</td>\n",
              "      <td>0</td>\n",
              "      <td>http://gorodrabot.ru/vacancy/200375565/razrabo...</td>\n",
              "      <td>hh.ru</td>\n",
              "      <td>2019-08-19 13:10:38.512727</td>\n",
              "    </tr>\n",
              "    <tr>\n",
              "      <th>7</th>\n",
              "      <td>Программист Python</td>\n",
              "      <td>90000</td>\n",
              "      <td>0</td>\n",
              "      <td>http://gorodrabot.ru/vacancy/197245059/program...</td>\n",
              "      <td>hh.ru</td>\n",
              "      <td>2019-08-19 13:10:38.512730</td>\n",
              "    </tr>\n",
              "    <tr>\n",
              "      <th>8</th>\n",
              "      <td>Junior Python developer / Начинающий разработч...</td>\n",
              "      <td>60000</td>\n",
              "      <td>70000</td>\n",
              "      <td>http://gorodrabot.ru/vacancy/200153543/junior_...</td>\n",
              "      <td>hh.ru</td>\n",
              "      <td>2019-08-19 13:10:38.512732</td>\n",
              "    </tr>\n",
              "    <tr>\n",
              "      <th>9</th>\n",
              "      <td>Backend-разработчик python</td>\n",
              "      <td>130000</td>\n",
              "      <td>0</td>\n",
              "      <td>http://gorodrabot.ru/vacancy/200407757/backend...</td>\n",
              "      <td>hh.ru</td>\n",
              "      <td>2019-08-19 18:10:38.512735</td>\n",
              "    </tr>\n",
              "  </tbody>\n",
              "</table>\n",
              "</div>"
            ],
            "text/plain": [
              "                                             vacancy  ...                    datetime\n",
              "0                                    Программист php  ...  2019-08-06 13:10:38.512665\n",
              "1                               Frontend разработчик  ...  2019-08-14 13:10:38.512709\n",
              "2                     Backend-разработчик (python 3)  ...  2019-08-20 05:10:38.512713\n",
              "3                  Windows-разработчик со знанием JS  ...                           0\n",
              "4             Intelligent R&D Tools Technical Expert  ...  2019-07-30 13:10:38.512720\n",
              "5                                 Разработчик Python  ...  2019-08-19 14:10:38.512724\n",
              "6                         Разработчик Python Backend  ...  2019-08-19 13:10:38.512727\n",
              "7                                 Программист Python  ...  2019-08-19 13:10:38.512730\n",
              "8  Junior Python developer / Начинающий разработч...  ...  2019-08-19 13:10:38.512732\n",
              "9                         Backend-разработчик python  ...  2019-08-19 18:10:38.512735\n",
              "\n",
              "[10 rows x 6 columns]"
            ]
          },
          "metadata": {
            "tags": []
          },
          "execution_count": 310
        }
      ]
    },
    {
      "cell_type": "code",
      "metadata": {
        "id": "J4nxRfOd_46C",
        "colab_type": "code",
        "colab": {}
      },
      "source": [
        "# print(len(get_vac_names(resp_text)))\n",
        "# print(len(get_salaries(resp_text)))\n",
        "# print(len(get_links(resp_text)))\n",
        "# print(len(salary_separator(resp_text)[0]))\n",
        "# print(len(salary_separator(resp_text)[1]))\n",
        "# print(len(post_datetime(time_ago, resp_text)))\n",
        "# print(len(hirer(resp_text)))"
      ],
      "execution_count": 0,
      "outputs": []
    },
    {
      "cell_type": "code",
      "metadata": {
        "id": "H3MatRqbBQ0B",
        "colab_type": "code",
        "colab": {}
      },
      "source": [
        ""
      ],
      "execution_count": 0,
      "outputs": []
    }
  ]
}