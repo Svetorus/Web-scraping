{
  "nbformat": 4,
  "nbformat_minor": 0,
  "metadata": {
    "colab": {
      "name": "func tests.ipynb",
      "version": "0.3.2",
      "provenance": [],
      "collapsed_sections": [],
      "include_colab_link": true
    },
    "kernelspec": {
      "name": "python3",
      "display_name": "Python 3"
    }
  },
  "cells": [
    {
      "cell_type": "markdown",
      "metadata": {
        "id": "view-in-github",
        "colab_type": "text"
      },
      "source": [
        "<a href=\"https://colab.research.google.com/github/panzershracker/Web-scraping/blob/master/func_tests4.ipynb\" target=\"_parent\"><img src=\"https://colab.research.google.com/assets/colab-badge.svg\" alt=\"Open In Colab\"/></a>"
      ]
    },
    {
      "cell_type": "code",
      "metadata": {
        "id": "BqJy1JYoiPQf",
        "colab_type": "code",
        "colab": {}
      },
      "source": [
        "import pandas as pd\n",
        "import numpy as np\n",
        "import requests, re\n",
        "from datetime import datetime, date, time, timedelta\n",
        "from bs4 import BeautifulSoup as soup\n",
        "from pprint import pprint\n",
        "\n"
      ],
      "execution_count": 0,
      "outputs": []
    },
    {
      "cell_type": "code",
      "metadata": {
        "id": "Mzx2Rw0iiaDW",
        "colab_type": "code",
        "colab": {}
      },
      "source": [
        "mask = '[а-я0-9—]+'\n",
        "vacancy = 'программист'\n",
        "language = 'python'\n",
        "city = 'moskva.'\n",
        "salary = '?st=1'\n",
        "page = '&p=1'"
      ],
      "execution_count": 0,
      "outputs": []
    },
    {
      "cell_type": "code",
      "metadata": {
        "id": "uwEmVuEXiesc",
        "colab_type": "code",
        "colab": {}
      },
      "source": [
        "# def get_vac_names(resp_text):\n",
        "\n",
        "#     div = str(resp_text.find_all('div', {'class': ['clearfix vacancy premium ',\n",
        "#                                                'clearfix vacancy']}))\n",
        "#     h2 = str(soup(div, 'lxml').find_all('h2'))\n",
        "    \n",
        "#     a = list(soup(h2, 'lxml').find_all('a'))\n",
        "    \n",
        "#     vac_names = []\n",
        "\n",
        "#     for i in range(0, len(a)):\n",
        "#         vac_names.append(a[i].getText())\n",
        "\n",
        "#     return vac_names\n",
        "\n",
        "\n"
      ],
      "execution_count": 0,
      "outputs": []
    },
    {
      "cell_type": "code",
      "metadata": {
        "id": "AdYIO6ftvr3I",
        "colab_type": "code",
        "colab": {}
      },
      "source": [
        "# pprint(get_vac_names(resp_text))"
      ],
      "execution_count": 0,
      "outputs": []
    },
    {
      "cell_type": "code",
      "metadata": {
        "id": "mALHhtOFpA0x",
        "colab_type": "code",
        "colab": {}
      },
      "source": [
        "def get_vac_names(resp_text):\n",
        "  \n",
        "  div = str(resp_text.find_all('div', {'class': ['clearfix vacancy premium ',\n",
        "                                                 'clearfix vacancy']}))\n",
        "\n",
        "  h2 = soup(div, 'lxml').find_all('h2')\n",
        "\n",
        "  vac_names = []\n",
        "\n",
        "  for i in h2:\n",
        "\n",
        "    vac_names.append(i.a.getText())\n",
        "\n",
        "  return vac_names"
      ],
      "execution_count": 0,
      "outputs": []
    },
    {
      "cell_type": "code",
      "metadata": {
        "id": "h6lDqwTHJ-0H",
        "colab_type": "code",
        "colab": {}
      },
      "source": [
        "pprint(get_vac_names(resp_text))"
      ],
      "execution_count": 0,
      "outputs": []
    },
    {
      "cell_type": "code",
      "metadata": {
        "id": "h-LxGUaV5-Se",
        "colab_type": "code",
        "colab": {}
      },
      "source": [
        "def time_ago(resp_text):\n",
        "  \n",
        "  span = resp_text.find_all('span', {'class': 'date'})\n",
        "  \n",
        "  time_ago = []\n",
        "  \n",
        "  for i in range(0, len(span)):\n",
        "    time = span[i].find(text=True, recursive=False).replace('  ', '')[1:]\n",
        "    time_ago.append(time)\n",
        "    \n",
        "  return time_ago\n",
        "  "
      ],
      "execution_count": 0,
      "outputs": []
    },
    {
      "cell_type": "code",
      "metadata": {
        "id": "XLcVzgbM7uI6",
        "colab_type": "code",
        "colab": {}
      },
      "source": [
        "pprint(time_ago(resp_text)[:5])"
      ],
      "execution_count": 0,
      "outputs": []
    },
    {
      "cell_type": "code",
      "metadata": {
        "id": "xs8BiEpxNxsB",
        "colab_type": "code",
        "colab": {}
      },
      "source": [
        "# a = time_ago(resp_text)\n",
        "\n",
        "# for i in a:\n",
        "    \n",
        "#     num, rest = i.split(' ', 1)\n",
        "    \n",
        "#     print(num)\n",
        "#     print(rest[0])"
      ],
      "execution_count": 0,
      "outputs": []
    },
    {
      "cell_type": "code",
      "metadata": {
        "id": "qO1E8KL0Rmdu",
        "colab_type": "code",
        "colab": {}
      },
      "source": [
        "def post_datetime(time_ago, resp_text):\n",
        "  \n",
        "  time_ago = time_ago(resp_text)  \n",
        " \n",
        "  date_time = []\n",
        "  \n",
        "  for i in time_ago:\n",
        "    \n",
        "    now = datetime.now()\n",
        "      \n",
        "    if not i:\n",
        "      date_time.append(0)\n",
        "      \n",
        "    else: \n",
        "\n",
        "      num, rest = i.split(' ', 1)\n",
        "\n",
        "      if rest.startswith('ч'):\n",
        "        date_time.append(now - timedelta(hours= int(num)))\n",
        "\n",
        "      elif rest.startswith('д'):\n",
        "        date_time.append(now - timedelta(days= int(num)))\n",
        "\n",
        "      elif rest.startswith('н'):\n",
        "        date_time.append(now - timedelta(weeks= int(num)))\n",
        "\n",
        "      elif rest.startswith('м'):\n",
        "        date_time.append(now - timedelta(weeks= int(num)*4))\n",
        "\n",
        "      else:\n",
        "        date_time.append(0)\n",
        "\n",
        "    \n",
        "  return date_time\n",
        "  "
      ],
      "execution_count": 0,
      "outputs": []
    },
    {
      "cell_type": "code",
      "metadata": {
        "id": "c9ku0OSJMeYF",
        "colab_type": "code",
        "colab": {}
      },
      "source": [
        "# for i in post_datetime(time_ago, resp_text)[:5]:\n",
        "#   print(i)"
      ],
      "execution_count": 0,
      "outputs": []
    },
    {
      "cell_type": "code",
      "metadata": {
        "id": "5tAdYCBximXW",
        "colab_type": "code",
        "colab": {}
      },
      "source": [
        "# def get_salaries():\n",
        "   \n",
        "#     h2 = str(soup(resp.text, 'lxml').find_all('h2'))\n",
        "    \n",
        "#     b = list(soup(h2, 'lxml').find_all('b'))\n",
        "    \n",
        "#     salaries = []\n",
        "    \n",
        "#     for i in b:\n",
        "#       sal = re.findall(mask, str(i))\n",
        "#       salaries.append(''.join(sal))\n",
        "      \n",
        "#     return salaries\n",
        "\n"
      ],
      "execution_count": 0,
      "outputs": []
    },
    {
      "cell_type": "code",
      "metadata": {
        "id": "kbEQikW-zGAv",
        "colab_type": "code",
        "colab": {}
      },
      "source": [
        "def get_salaries(resp_text):\n",
        "   \n",
        "    h2 = resp_text.find_all('h2')\n",
        "        \n",
        "    salaries = []\n",
        "    \n",
        "    for i in h2:\n",
        "      sal = re.findall(mask, i.b.getText())\n",
        "      salaries.append(''.join(sal))\n",
        "      \n",
        "    return salaries"
      ],
      "execution_count": 0,
      "outputs": []
    },
    {
      "cell_type": "code",
      "metadata": {
        "id": "wDNZLxgp2_TG",
        "colab_type": "code",
        "colab": {}
      },
      "source": [
        "pprint(get_salaries(resp_text))"
      ],
      "execution_count": 0,
      "outputs": []
    },
    {
      "cell_type": "code",
      "metadata": {
        "id": "agj-WCx-bHoR",
        "colab_type": "code",
        "colab": {}
      },
      "source": [
        "# def get_links():\n",
        "  \n",
        "#   div = str(soup(resp.text, 'lxml').find_all('div', {'class': ['clearfix vacancy premium ',\n",
        "#                                                                  'clearfix vacancy']}))\n",
        "#   h2 = str(soup(div, 'lxml').find_all('h2'))\n",
        "  \n",
        "#   a = list(soup(h2, 'lxml').find_all('a'))\n",
        "  \n",
        "#   vac_links = []\n",
        "\n",
        "#   for i in range(0, len(d)):\n",
        "#     vac_links.append('http://gorodrabot.ru' + a[i].get('href'))\n",
        "        \n",
        "\n",
        "#   return vac_links\n"
      ],
      "execution_count": 0,
      "outputs": []
    },
    {
      "cell_type": "markdown",
      "metadata": {
        "id": "MdXQcUxQ8HVn",
        "colab_type": "text"
      },
      "source": [
        "# ! TODO \n",
        "\n",
        "### Переделать без множественного парсинга в функциях\n",
        "(get_links, hirer, get_comp и тд, где возможно)"
      ]
    },
    {
      "cell_type": "code",
      "metadata": {
        "id": "F-NOF7ey3Sor",
        "colab_type": "code",
        "colab": {}
      },
      "source": [
        "def get_links(resp_text):\n",
        "  \n",
        "  div = resp_text.find_all('div', {'class': ['clearfix vacancy premium ',\n",
        "                                             'clearfix vacancy']})\n",
        "  vac_links = []\n",
        "\n",
        "  for i in range(0, len(div)):\n",
        "    link = div[i].h2\n",
        "    \n",
        "    vac_links.append(link)\n",
        "        \n",
        "\n",
        "  return vac_links"
      ],
      "execution_count": 0,
      "outputs": []
    },
    {
      "cell_type": "code",
      "metadata": {
        "id": "oZwG4fbn3Td3",
        "colab_type": "code",
        "outputId": "739e181b-4677-4842-cd4f-5d0b8595b928",
        "colab": {
          "base_uri": "https://localhost:8080/",
          "height": 142
        }
      },
      "source": [
        "pprint(get_links(resp_text)[0])"
      ],
      "execution_count": 131,
      "outputs": [
        {
          "output_type": "stream",
          "text": [
            "<h2><a data-action=\"rabota.ru\" data-category=\"sourceAway\" data-label=\"top premium\" href=\"/vacancy/198583836/programmist_moskva\" rel=\"nofollow\" target=\"_blank\">Программист</a>\n",
            "<span>\n",
            "<b>\n",
            "                    от                                            50 000                                                        </b>\n",
            "<i class=\"rub rub_big\">P</i> </span>\n",
            "</h2>\n"
          ],
          "name": "stdout"
        }
      ]
    },
    {
      "cell_type": "code",
      "metadata": {
        "id": "XumD0s4wd98A",
        "colab_type": "code",
        "colab": {}
      },
      "source": [
        "def hirer():\n",
        "  \n",
        "  div = str(soup(resp.text, 'lxml').find_all('div', {'class': ['clearfix vacancy premium ',\n",
        "                                                                 'clearfix vacancy']}))\n",
        "  h2 = str(soup(div, 'lxml').find_all('h2'))\n",
        "  \n",
        "  a = list(soup(h2, 'lxml').find_all('a'))\n",
        "  \n",
        "  hirers = []\n",
        "\n",
        "  for i in range(0, len(a)):\n",
        "    hirers.append(a[i].get('data-action'))\n",
        "        \n",
        "\n",
        "  return hirers"
      ],
      "execution_count": 0,
      "outputs": []
    },
    {
      "cell_type": "code",
      "metadata": {
        "id": "9KGrYEZSehRA",
        "colab_type": "code",
        "colab": {}
      },
      "source": [
        "# pprint(hirer())"
      ],
      "execution_count": 0,
      "outputs": []
    },
    {
      "cell_type": "code",
      "metadata": {
        "id": "_KGwNFsTgpK_",
        "colab_type": "code",
        "colab": {}
      },
      "source": [
        "def get_comp():\n",
        "  \n",
        "  div = str(soup(resp.text, 'lxml').find_all('div', {'class': ['clearfix vacancy premium ',\n",
        "                                                               'clearfix vacancy']}))\n",
        "  div = str(soup(div, 'lxml').find_all('div', {'class': 'address'}))\n",
        "  \n",
        "  span = list(soup(div, 'lxml').find_all('span'))\n",
        "  \n",
        "  comp = []\n",
        "  \n",
        "  for i in range(0, len(span)):\n",
        "    comp.append(span[i].getText())\n",
        "\n",
        "  return comp"
      ],
      "execution_count": 0,
      "outputs": []
    },
    {
      "cell_type": "markdown",
      "metadata": {
        "id": "J6jT_vmhp3B6",
        "colab_type": "text"
      },
      "source": [
        "# ! TODO\n",
        "\n",
        "### Доделать вывод названия компаний."
      ]
    },
    {
      "cell_type": "code",
      "metadata": {
        "id": "JLBVnbyahlXw",
        "colab_type": "code",
        "colab": {}
      },
      "source": [
        "# pprint(get_comp())"
      ],
      "execution_count": 0,
      "outputs": []
    },
    {
      "cell_type": "code",
      "metadata": {
        "id": "6CKIM7EbalLE",
        "colab_type": "code",
        "colab": {}
      },
      "source": [
        "# print(get_links())"
      ],
      "execution_count": 0,
      "outputs": []
    },
    {
      "cell_type": "code",
      "metadata": {
        "id": "t-k2jIsdruOb",
        "colab_type": "code",
        "colab": {}
      },
      "source": [
        "def salary_separator():\n",
        "  \n",
        "  ot = []\n",
        "  do = []\n",
        "  \n",
        "  salaries = get_salaries()\n",
        "  \n",
        "  for i in salaries:\n",
        "    \n",
        "    if i.startswith('от'):\n",
        "      \n",
        "      ot.append(int(i[2:]))\n",
        "      do.append(0)\n",
        "    \n",
        "    elif i.startswith('до'):\n",
        "      \n",
        "      if i.startswith('дог'):\n",
        "        \n",
        "        ot.append(-1)\n",
        "        do.append(-1)\n",
        "      \n",
        "      else:\n",
        "        \n",
        "        do.append(int(i[2:]))\n",
        "        ot.append(0)\n",
        "      \n",
        "    else:\n",
        "      \n",
        "      a = i.split('—')\n",
        "      \n",
        "      ot.append(int(a[0]))\n",
        "      do.append(int(a[1]))\n",
        "      \n",
        "  return ot, do"
      ],
      "execution_count": 0,
      "outputs": []
    },
    {
      "cell_type": "code",
      "metadata": {
        "id": "_cSJsK1p626a",
        "colab_type": "code",
        "outputId": "3543d3bc-eeab-4c5a-f58d-8329522be82f",
        "colab": {
          "base_uri": "https://localhost:8080/",
          "height": 34
        }
      },
      "source": [
        "with requests.Session() as session:\n",
        "\n",
        "    session.headers['User-Agent'] = 'Mozilla/5.0 (X11; Linux x86_64; rv:63.0) Gecko/20100101 Firefox/63.0'\n",
        "\n",
        "    url = f'https://{city}gorodrabot.ru/{vacancy}_{language}{salary}{page}'\n",
        "    resp = session.get(url)\n",
        "    \n",
        "    resp_text = soup(resp.text, 'lxml')\n",
        "\n",
        "    print(f'gorodrabot.ru status code is: {resp.status_code}')\n"
      ],
      "execution_count": 6,
      "outputs": [
        {
          "output_type": "stream",
          "text": [
            "gorodrabot.ru status code is: 200\n"
          ],
          "name": "stdout"
        }
      ]
    },
    {
      "cell_type": "code",
      "metadata": {
        "id": "fMwX3r4AbTx7",
        "colab_type": "code",
        "colab": {}
      },
      "source": [
        "    df = pd.DataFrame({'vacancy': get_vac_names(),\n",
        "                       'salary min': salary_separator()[0],\n",
        "                       'salary max': salary_separator()[1],\n",
        "                       'link': get_links(),\n",
        "                       'from': hirer(),\n",
        "                       'datetime': post_datetime(time_ago, resp_text)})"
      ],
      "execution_count": 0,
      "outputs": []
    },
    {
      "cell_type": "code",
      "metadata": {
        "id": "z3YBkX3dbLuL",
        "colab_type": "code",
        "colab": {}
      },
      "source": [
        "df.head(20)"
      ],
      "execution_count": 0,
      "outputs": []
    },
    {
      "cell_type": "code",
      "metadata": {
        "id": "J4nxRfOd_46C",
        "colab_type": "code",
        "colab": {}
      },
      "source": [
        "# print(len(get_vac_names()))\n",
        "# print(len(get_salaries()))\n",
        "# print(len(get_links()))\n",
        "# print(len(salary_separator()[0]))\n",
        "# print(len(salary_separator()[1]))"
      ],
      "execution_count": 0,
      "outputs": []
    },
    {
      "cell_type": "code",
      "metadata": {
        "id": "H3MatRqbBQ0B",
        "colab_type": "code",
        "colab": {}
      },
      "source": [
        ""
      ],
      "execution_count": 0,
      "outputs": []
    }
  ]
}