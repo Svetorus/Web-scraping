{
  "nbformat": 4,
  "nbformat_minor": 0,
  "metadata": {
    "colab": {
      "name": "func tests.ipynb",
      "version": "0.3.2",
      "provenance": [],
      "collapsed_sections": [],
      "include_colab_link": true
    },
    "kernelspec": {
      "name": "python3",
      "display_name": "Python 3"
    }
  },
  "cells": [
    {
      "cell_type": "markdown",
      "metadata": {
        "id": "view-in-github",
        "colab_type": "text"
      },
      "source": [
        "<a href=\"https://colab.research.google.com/github/panzershracker/Web-scraping/blob/master/func_tests3.ipynb\" target=\"_parent\"><img src=\"https://colab.research.google.com/assets/colab-badge.svg\" alt=\"Open In Colab\"/></a>"
      ]
    },
    {
      "cell_type": "code",
      "metadata": {
        "id": "BqJy1JYoiPQf",
        "colab_type": "code",
        "colab": {}
      },
      "source": [
        "import pandas as pd\n",
        "import numpy as np\n",
        "import requests, re\n",
        "from datetime import datetime, date, time, timedelta\n",
        "from bs4 import BeautifulSoup as soup\n",
        "from pprint import pprint\n",
        "\n"
      ],
      "execution_count": 0,
      "outputs": []
    },
    {
      "cell_type": "code",
      "metadata": {
        "id": "Mzx2Rw0iiaDW",
        "colab_type": "code",
        "colab": {}
      },
      "source": [
        "mask = '[а-я0-9—]+'\n",
        "vacancy = 'программист'\n",
        "language = 'python'\n",
        "city = 'moskva.'\n",
        "salary = '?st=1'\n",
        "page = '&p=1'"
      ],
      "execution_count": 0,
      "outputs": []
    },
    {
      "cell_type": "code",
      "metadata": {
        "id": "uwEmVuEXiesc",
        "colab_type": "code",
        "colab": {}
      },
      "source": [
        "def get_vac_names():\n",
        "\n",
        "    div = str(soup(resp.text, 'lxml').find_all('div', {'class': ['clearfix vacancy premium ',\n",
        "                                                                 'clearfix vacancy']}))\n",
        "    h2 = str(soup(div, 'lxml').find_all('h2'))\n",
        "    \n",
        "    a = list(soup(h2, 'lxml').find_all('a'))\n",
        "    \n",
        "    vac_names = []\n",
        "\n",
        "    for i in range(0, len(a)):\n",
        "        vac_names.append(a[i].getText())\n",
        "\n",
        "    return vac_names\n",
        "\n",
        "\n"
      ],
      "execution_count": 0,
      "outputs": []
    },
    {
      "cell_type": "code",
      "metadata": {
        "id": "h6lDqwTHJ-0H",
        "colab_type": "code",
        "colab": {}
      },
      "source": [
        "# print(len(get_vac_names()))\n",
        "\n",
        "# pprint(get_vac_names())"
      ],
      "execution_count": 0,
      "outputs": []
    },
    {
      "cell_type": "code",
      "metadata": {
        "id": "h-LxGUaV5-Se",
        "colab_type": "code",
        "colab": {}
      },
      "source": [
        "def time_ago(resp_text):\n",
        "  \n",
        "  span = resp_text.find_all('span', {'class': 'date'})\n",
        "  \n",
        "  time_ago = []\n",
        "  \n",
        "  for i in range(0, len(span)):\n",
        "    time = span[i].find(text=True, recursive=False).replace('  ', '')[1:]\n",
        "    time_ago.append(time)\n",
        "    \n",
        "  return time_ago\n",
        "  "
      ],
      "execution_count": 0,
      "outputs": []
    },
    {
      "cell_type": "code",
      "metadata": {
        "id": "XLcVzgbM7uI6",
        "colab_type": "code",
        "colab": {
          "base_uri": "https://localhost:8080/",
          "height": 104
        },
        "outputId": "92d638c7-9923-4f0a-df0c-db6f8128a1f7"
      },
      "source": [
        "pprint(time_ago(resp_text)[:5])"
      ],
      "execution_count": 281,
      "outputs": [
        {
          "output_type": "stream",
          "text": [
            "['5 дней назад с',\n",
            " '1 неделю назад с',\n",
            " '10 часов назад с',\n",
            " '9 часов назад с',\n",
            " '']\n"
          ],
          "name": "stdout"
        }
      ]
    },
    {
      "cell_type": "code",
      "metadata": {
        "id": "xs8BiEpxNxsB",
        "colab_type": "code",
        "colab": {}
      },
      "source": [
        "# a = time_ago(resp_text)\n",
        "\n",
        "# for i in a:\n",
        "    \n",
        "#     num, rest = i.split(' ', 1)\n",
        "    \n",
        "#     print(num)\n",
        "#     print(rest[0])"
      ],
      "execution_count": 0,
      "outputs": []
    },
    {
      "cell_type": "code",
      "metadata": {
        "id": "qO1E8KL0Rmdu",
        "colab_type": "code",
        "colab": {}
      },
      "source": [
        "def post_datetime(time_ago, resp_text):\n",
        "  \n",
        "  time_ago = time_ago(resp_text)  \n",
        " \n",
        "  date_time = []\n",
        "  \n",
        "  for i in time_ago:\n",
        "    \n",
        "    now = datetime.now()\n",
        "      \n",
        "    if not i:\n",
        "      date_time.append(0)\n",
        "      \n",
        "    else: \n",
        "\n",
        "      num, rest = i.split(' ', 1)\n",
        "\n",
        "      if rest.startswith('ч'):\n",
        "        date_time.append(now - timedelta(hours= int(num)))\n",
        "\n",
        "      elif rest.startswith('д'):\n",
        "        date_time.append(now - timedelta(days= int(num)))\n",
        "\n",
        "      elif rest.startswith('н'):\n",
        "        date_time.append(now - timedelta(weeks= int(num)))\n",
        "\n",
        "      elif rest.startswith('м'):\n",
        "        date_time.append(now - timedelta(weeks= int(num)*4))\n",
        "\n",
        "      else:\n",
        "        date_time.append(0)\n",
        "\n",
        "    \n",
        "  return date_time\n",
        "  "
      ],
      "execution_count": 0,
      "outputs": []
    },
    {
      "cell_type": "code",
      "metadata": {
        "id": "c9ku0OSJMeYF",
        "colab_type": "code",
        "colab": {}
      },
      "source": [
        "# for i in post_datetime(time_ago, resp_text)[:5]:\n",
        "#   print(i)"
      ],
      "execution_count": 0,
      "outputs": []
    },
    {
      "cell_type": "code",
      "metadata": {
        "id": "5tAdYCBximXW",
        "colab_type": "code",
        "colab": {}
      },
      "source": [
        "def get_salaries():\n",
        "   \n",
        "    h2 = str(soup(resp.text, 'lxml').find_all('h2'))\n",
        "    \n",
        "    b = list(soup(h2, 'lxml').find_all('b'))\n",
        "    \n",
        "    salaries = []\n",
        "    \n",
        "    for i in b:\n",
        "      sal = re.findall(mask, str(i))\n",
        "      salaries.append(''.join(sal))\n",
        "      \n",
        "    return salaries\n",
        "\n"
      ],
      "execution_count": 0,
      "outputs": []
    },
    {
      "cell_type": "code",
      "metadata": {
        "id": "agj-WCx-bHoR",
        "colab_type": "code",
        "colab": {}
      },
      "source": [
        "def get_links():\n",
        "  \n",
        "  div = str(soup(resp.text, 'lxml').find_all('div', {'class': ['clearfix vacancy premium ',\n",
        "                                                                 'clearfix vacancy']}))\n",
        "  h2 = str(soup(div, 'lxml').find_all('h2'))\n",
        "  \n",
        "  a = list(soup(h2, 'lxml').find_all('a'))\n",
        "  \n",
        "  vac_links = []\n",
        "\n",
        "  for i in range(0, len(a)):\n",
        "    vac_links.append('http://gorodrabot.ru' + a[i].get('href'))\n",
        "        \n",
        "\n",
        "  return vac_links\n"
      ],
      "execution_count": 0,
      "outputs": []
    },
    {
      "cell_type": "code",
      "metadata": {
        "id": "XumD0s4wd98A",
        "colab_type": "code",
        "colab": {}
      },
      "source": [
        "def hirer():\n",
        "  \n",
        "  div = str(soup(resp.text, 'lxml').find_all('div', {'class': ['clearfix vacancy premium ',\n",
        "                                                                 'clearfix vacancy']}))\n",
        "  h2 = str(soup(div, 'lxml').find_all('h2'))\n",
        "  \n",
        "  a = list(soup(h2, 'lxml').find_all('a'))\n",
        "  \n",
        "  hirers = []\n",
        "\n",
        "  for i in range(0, len(a)):\n",
        "    hirers.append(a[i].get('data-action'))\n",
        "        \n",
        "\n",
        "  return hirers"
      ],
      "execution_count": 0,
      "outputs": []
    },
    {
      "cell_type": "code",
      "metadata": {
        "id": "9KGrYEZSehRA",
        "colab_type": "code",
        "colab": {}
      },
      "source": [
        "# pprint(hirer())"
      ],
      "execution_count": 0,
      "outputs": []
    },
    {
      "cell_type": "code",
      "metadata": {
        "id": "_KGwNFsTgpK_",
        "colab_type": "code",
        "colab": {}
      },
      "source": [
        "def get_comp():\n",
        "  \n",
        "  div = str(soup(resp.text, 'lxml').find_all('div', {'class': ['clearfix vacancy premium ',\n",
        "                                                               'clearfix vacancy']}))\n",
        "  div = str(soup(div, 'lxml').find_all('div', {'class': 'address'}))\n",
        "  \n",
        "  span = list(soup(div, 'lxml').find_all('span'))\n",
        "  \n",
        "  comp = []\n",
        "  \n",
        "  for i in range(0, len(span)):\n",
        "    comp.append(span[i].getText())\n",
        "\n",
        "  return comp"
      ],
      "execution_count": 0,
      "outputs": []
    },
    {
      "cell_type": "markdown",
      "metadata": {
        "id": "J6jT_vmhp3B6",
        "colab_type": "text"
      },
      "source": [
        "# ! TODO\n",
        "\n",
        "### Доделать вывод названия компаний."
      ]
    },
    {
      "cell_type": "code",
      "metadata": {
        "id": "JLBVnbyahlXw",
        "colab_type": "code",
        "colab": {}
      },
      "source": [
        "# pprint(get_comp())"
      ],
      "execution_count": 0,
      "outputs": []
    },
    {
      "cell_type": "code",
      "metadata": {
        "id": "6CKIM7EbalLE",
        "colab_type": "code",
        "colab": {}
      },
      "source": [
        "# print(get_links())"
      ],
      "execution_count": 0,
      "outputs": []
    },
    {
      "cell_type": "code",
      "metadata": {
        "id": "t-k2jIsdruOb",
        "colab_type": "code",
        "colab": {}
      },
      "source": [
        "def salary_separator():\n",
        "  \n",
        "  ot = []\n",
        "  do = []\n",
        "  \n",
        "  salaries = get_salaries()\n",
        "  \n",
        "  for i in salaries:\n",
        "    \n",
        "    if i.startswith('от'):\n",
        "      \n",
        "      ot.append(int(i[2:]))\n",
        "      do.append(0)\n",
        "    \n",
        "    elif i.startswith('до'):\n",
        "      \n",
        "      if i.startswith('дог'):\n",
        "        \n",
        "        ot.append(-1)\n",
        "        do.append(-1)\n",
        "      \n",
        "      else:\n",
        "        \n",
        "        do.append(int(i[2:]))\n",
        "        ot.append(0)\n",
        "      \n",
        "    else:\n",
        "      \n",
        "      a = i.split('—')\n",
        "      \n",
        "      ot.append(int(a[0]))\n",
        "      do.append(int(a[1]))\n",
        "      \n",
        "  return ot, do"
      ],
      "execution_count": 0,
      "outputs": []
    },
    {
      "cell_type": "code",
      "metadata": {
        "id": "_cSJsK1p626a",
        "colab_type": "code",
        "colab": {
          "base_uri": "https://localhost:8080/",
          "height": 35
        },
        "outputId": "0f9a6ac9-ac20-4e00-a939-d4eb7f2c8d10"
      },
      "source": [
        "with requests.Session() as session:\n",
        "\n",
        "    session.headers['User-Agent'] = 'Mozilla/5.0 (X11; Linux x86_64; rv:63.0) Gecko/20100101 Firefox/63.0'\n",
        "\n",
        "    url = f'https://{city}gorodrabot.ru/{vacancy}_{language}{salary}{page}'\n",
        "    resp = session.get(url)\n",
        "    \n",
        "    resp_text = soup(resp.text, 'lxml')\n",
        "\n",
        "    print(f'gorodrabot.ru status code is: {resp.status_code}')\n"
      ],
      "execution_count": 257,
      "outputs": [
        {
          "output_type": "stream",
          "text": [
            "gorodrabot.ru status code is: 200\n"
          ],
          "name": "stdout"
        }
      ]
    },
    {
      "cell_type": "code",
      "metadata": {
        "id": "fMwX3r4AbTx7",
        "colab_type": "code",
        "colab": {}
      },
      "source": [
        "    df = pd.DataFrame({'vacancy': get_vac_names(),\n",
        "                       'salary min': salary_separator()[0],\n",
        "                       'salary max': salary_separator()[1],\n",
        "                       'link': get_links(),\n",
        "                       'from': hirer(),\n",
        "                       'datetime': post_datetime(time_ago, resp_text)})"
      ],
      "execution_count": 0,
      "outputs": []
    },
    {
      "cell_type": "code",
      "metadata": {
        "id": "z3YBkX3dbLuL",
        "colab_type": "code",
        "colab": {
          "base_uri": "https://localhost:8080/",
          "height": 648
        },
        "outputId": "03b36ef9-16cf-4934-e52d-5c9268cf7931"
      },
      "source": [
        "df.head(20)"
      ],
      "execution_count": 307,
      "outputs": [
        {
          "output_type": "execute_result",
          "data": {
            "text/html": [
              "<div>\n",
              "<style scoped>\n",
              "    .dataframe tbody tr th:only-of-type {\n",
              "        vertical-align: middle;\n",
              "    }\n",
              "\n",
              "    .dataframe tbody tr th {\n",
              "        vertical-align: top;\n",
              "    }\n",
              "\n",
              "    .dataframe thead th {\n",
              "        text-align: right;\n",
              "    }\n",
              "</style>\n",
              "<table border=\"1\" class=\"dataframe\">\n",
              "  <thead>\n",
              "    <tr style=\"text-align: right;\">\n",
              "      <th></th>\n",
              "      <th>vacancy</th>\n",
              "      <th>salary min</th>\n",
              "      <th>salary max</th>\n",
              "      <th>link</th>\n",
              "      <th>from</th>\n",
              "      <th>datetime</th>\n",
              "    </tr>\n",
              "  </thead>\n",
              "  <tbody>\n",
              "    <tr>\n",
              "      <th>0</th>\n",
              "      <td>Разработчик Backend (Middle)</td>\n",
              "      <td>180000</td>\n",
              "      <td>250000</td>\n",
              "      <td>http://gorodrabot.ru/vacancy/198182127/razrabo...</td>\n",
              "      <td>rabota.ru</td>\n",
              "      <td>2019-08-14 15:59:58.040258</td>\n",
              "    </tr>\n",
              "    <tr>\n",
              "      <th>1</th>\n",
              "      <td>Программист php</td>\n",
              "      <td>20000</td>\n",
              "      <td>40000</td>\n",
              "      <td>http://gorodrabot.ru/vacancy/198682024/program...</td>\n",
              "      <td>rabota.ru</td>\n",
              "      <td>2019-08-12 15:59:58.040291</td>\n",
              "    </tr>\n",
              "    <tr>\n",
              "      <th>2</th>\n",
              "      <td>Backend-разработчик (python 3)</td>\n",
              "      <td>100000</td>\n",
              "      <td>200000</td>\n",
              "      <td>http://gorodrabot.ru/vacancy/193786676/backend...</td>\n",
              "      <td>talents.yandex.ru</td>\n",
              "      <td>2019-08-19 05:59:58.040297</td>\n",
              "    </tr>\n",
              "    <tr>\n",
              "      <th>3</th>\n",
              "      <td>Senior Fullstack разработчик</td>\n",
              "      <td>150000</td>\n",
              "      <td>0</td>\n",
              "      <td>http://gorodrabot.ru/vacancy/199424618/senior_...</td>\n",
              "      <td>talents.yandex.ru</td>\n",
              "      <td>2019-08-19 06:59:58.040301</td>\n",
              "    </tr>\n",
              "    <tr>\n",
              "      <th>4</th>\n",
              "      <td>Windows-разработчик со знанием JS</td>\n",
              "      <td>80000</td>\n",
              "      <td>0</td>\n",
              "      <td>http://gorodrabot.ru/vacancy/198424878/windows...</td>\n",
              "      <td>None</td>\n",
              "      <td>0</td>\n",
              "    </tr>\n",
              "    <tr>\n",
              "      <th>5</th>\n",
              "      <td>Intelligent R&amp;D Tools Technical Expert</td>\n",
              "      <td>300000</td>\n",
              "      <td>0</td>\n",
              "      <td>http://gorodrabot.ru/vacancy/196539228/intelli...</td>\n",
              "      <td>kellyservices.ru</td>\n",
              "      <td>2019-07-29 15:59:58.040304</td>\n",
              "    </tr>\n",
              "    <tr>\n",
              "      <th>6</th>\n",
              "      <td>Разработчик Python</td>\n",
              "      <td>100000</td>\n",
              "      <td>180000</td>\n",
              "      <td>http://gorodrabot.ru/vacancy/199205772/razrabo...</td>\n",
              "      <td>hh.ru</td>\n",
              "      <td>2019-08-18 17:59:58.040308</td>\n",
              "    </tr>\n",
              "    <tr>\n",
              "      <th>7</th>\n",
              "      <td>Программист Python</td>\n",
              "      <td>90000</td>\n",
              "      <td>0</td>\n",
              "      <td>http://gorodrabot.ru/vacancy/197245059/program...</td>\n",
              "      <td>hh.ru</td>\n",
              "      <td>2019-08-16 15:59:58.040310</td>\n",
              "    </tr>\n",
              "    <tr>\n",
              "      <th>8</th>\n",
              "      <td>Junior Python developer / Начинающий разработч...</td>\n",
              "      <td>60000</td>\n",
              "      <td>70000</td>\n",
              "      <td>http://gorodrabot.ru/vacancy/200153543/junior_...</td>\n",
              "      <td>hh.ru</td>\n",
              "      <td>2019-08-16 15:59:58.040313</td>\n",
              "    </tr>\n",
              "    <tr>\n",
              "      <th>9</th>\n",
              "      <td>Программист Python (Middle)</td>\n",
              "      <td>100000</td>\n",
              "      <td>0</td>\n",
              "      <td>http://gorodrabot.ru/vacancy/199967520/program...</td>\n",
              "      <td>hh.ru</td>\n",
              "      <td>2019-08-18 17:59:58.040315</td>\n",
              "    </tr>\n",
              "    <tr>\n",
              "      <th>10</th>\n",
              "      <td>Разработчик Python/Django + React.js</td>\n",
              "      <td>145000</td>\n",
              "      <td>255000</td>\n",
              "      <td>http://gorodrabot.ru/vacancy/198614736/razrabo...</td>\n",
              "      <td>hh.ru</td>\n",
              "      <td>2019-08-18 15:59:58.040318</td>\n",
              "    </tr>\n",
              "    <tr>\n",
              "      <th>11</th>\n",
              "      <td>Программист Python</td>\n",
              "      <td>100000</td>\n",
              "      <td>0</td>\n",
              "      <td>http://gorodrabot.ru/vacancy/200180708/program...</td>\n",
              "      <td>hh.ru</td>\n",
              "      <td>2019-08-18 15:59:58.040320</td>\n",
              "    </tr>\n",
              "    <tr>\n",
              "      <th>12</th>\n",
              "      <td>Программист 1С</td>\n",
              "      <td>150000</td>\n",
              "      <td>0</td>\n",
              "      <td>http://gorodrabot.ru/vacancy/199827786/program...</td>\n",
              "      <td>superjob.ru</td>\n",
              "      <td>2019-08-19 11:59:58.040322</td>\n",
              "    </tr>\n",
              "    <tr>\n",
              "      <th>13</th>\n",
              "      <td>Ведущий программист 1С 8</td>\n",
              "      <td>130000</td>\n",
              "      <td>150000</td>\n",
              "      <td>http://gorodrabot.ru/vacancy/199379021/vedusch...</td>\n",
              "      <td>superjob.ru</td>\n",
              "      <td>2019-08-18 15:59:58.040324</td>\n",
              "    </tr>\n",
              "    <tr>\n",
              "      <th>14</th>\n",
              "      <td>Программист Python (Django)</td>\n",
              "      <td>130000</td>\n",
              "      <td>180000</td>\n",
              "      <td>http://gorodrabot.ru/vacancy/200212458/program...</td>\n",
              "      <td>hh.ru</td>\n",
              "      <td>2019-08-17 15:59:58.040326</td>\n",
              "    </tr>\n",
              "    <tr>\n",
              "      <th>15</th>\n",
              "      <td>Разработчик Python</td>\n",
              "      <td>140000</td>\n",
              "      <td>180000</td>\n",
              "      <td>http://gorodrabot.ru/vacancy/196419323/razrabo...</td>\n",
              "      <td>hh.ru</td>\n",
              "      <td>2019-08-17 15:59:58.040328</td>\n",
              "    </tr>\n",
              "    <tr>\n",
              "      <th>16</th>\n",
              "      <td>Разработчик Python</td>\n",
              "      <td>120000</td>\n",
              "      <td>0</td>\n",
              "      <td>http://gorodrabot.ru/vacancy/188113194/razrabo...</td>\n",
              "      <td>hh.ru</td>\n",
              "      <td>2019-08-16 15:59:58.040331</td>\n",
              "    </tr>\n",
              "    <tr>\n",
              "      <th>17</th>\n",
              "      <td>Ведущий программист Python</td>\n",
              "      <td>160000</td>\n",
              "      <td>0</td>\n",
              "      <td>http://gorodrabot.ru/vacancy/199959443/vedusch...</td>\n",
              "      <td>hh.ru</td>\n",
              "      <td>2019-08-16 15:59:58.040333</td>\n",
              "    </tr>\n",
              "    <tr>\n",
              "      <th>18</th>\n",
              "      <td>Программист Python</td>\n",
              "      <td>100000</td>\n",
              "      <td>120000</td>\n",
              "      <td>http://gorodrabot.ru/vacancy/199931683/program...</td>\n",
              "      <td>hh.ru</td>\n",
              "      <td>2019-08-16 15:59:58.040335</td>\n",
              "    </tr>\n",
              "    <tr>\n",
              "      <th>19</th>\n",
              "      <td>Web-разработчик (Python)</td>\n",
              "      <td>120000</td>\n",
              "      <td>0</td>\n",
              "      <td>http://gorodrabot.ru/vacancy/195009564/web_raz...</td>\n",
              "      <td>hh.ru</td>\n",
              "      <td>2019-08-16 15:59:58.040337</td>\n",
              "    </tr>\n",
              "  </tbody>\n",
              "</table>\n",
              "</div>"
            ],
            "text/plain": [
              "                                              vacancy  ...                    datetime\n",
              "0                        Разработчик Backend (Middle)  ...  2019-08-14 15:59:58.040258\n",
              "1                                     Программист php  ...  2019-08-12 15:59:58.040291\n",
              "2                      Backend-разработчик (python 3)  ...  2019-08-19 05:59:58.040297\n",
              "3                        Senior Fullstack разработчик  ...  2019-08-19 06:59:58.040301\n",
              "4                   Windows-разработчик со знанием JS  ...                           0\n",
              "5              Intelligent R&D Tools Technical Expert  ...  2019-07-29 15:59:58.040304\n",
              "6                                  Разработчик Python  ...  2019-08-18 17:59:58.040308\n",
              "7                                  Программист Python  ...  2019-08-16 15:59:58.040310\n",
              "8   Junior Python developer / Начинающий разработч...  ...  2019-08-16 15:59:58.040313\n",
              "9                         Программист Python (Middle)  ...  2019-08-18 17:59:58.040315\n",
              "10               Разработчик Python/Django + React.js  ...  2019-08-18 15:59:58.040318\n",
              "11                                 Программист Python  ...  2019-08-18 15:59:58.040320\n",
              "12                                     Программист 1С  ...  2019-08-19 11:59:58.040322\n",
              "13                           Ведущий программист 1С 8  ...  2019-08-18 15:59:58.040324\n",
              "14                        Программист Python (Django)  ...  2019-08-17 15:59:58.040326\n",
              "15                                 Разработчик Python  ...  2019-08-17 15:59:58.040328\n",
              "16                                 Разработчик Python  ...  2019-08-16 15:59:58.040331\n",
              "17                         Ведущий программист Python  ...  2019-08-16 15:59:58.040333\n",
              "18                                 Программист Python  ...  2019-08-16 15:59:58.040335\n",
              "19                           Web-разработчик (Python)  ...  2019-08-16 15:59:58.040337\n",
              "\n",
              "[20 rows x 6 columns]"
            ]
          },
          "metadata": {
            "tags": []
          },
          "execution_count": 307
        }
      ]
    },
    {
      "cell_type": "code",
      "metadata": {
        "id": "J4nxRfOd_46C",
        "colab_type": "code",
        "colab": {}
      },
      "source": [
        "# print(len(get_vac_names()))\n",
        "# print(len(get_salaries()))\n",
        "# print(len(get_links()))\n",
        "# print(len(salary_separator()[0]))\n",
        "# print(len(salary_separator()[1]))"
      ],
      "execution_count": 0,
      "outputs": []
    },
    {
      "cell_type": "code",
      "metadata": {
        "id": "H3MatRqbBQ0B",
        "colab_type": "code",
        "colab": {}
      },
      "source": [
        ""
      ],
      "execution_count": 0,
      "outputs": []
    }
  ]
}