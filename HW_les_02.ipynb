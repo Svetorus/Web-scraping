{
  "nbformat": 4,
  "nbformat_minor": 0,
  "metadata": {
    "colab": {
      "name": "HW les 02.ipynb",
      "version": "0.3.2",
      "provenance": [],
      "collapsed_sections": [],
      "include_colab_link": true
    },
    "kernelspec": {
      "name": "python3",
      "display_name": "Python 3"
    }
  },
  "cells": [
    {
      "cell_type": "markdown",
      "metadata": {
        "id": "view-in-github",
        "colab_type": "text"
      },
      "source": [
        "<a href=\"https://colab.research.google.com/github/panzershracker/Web-scraping/blob/master/HW_les_02.ipynb\" target=\"_parent\"><img src=\"https://colab.research.google.com/assets/colab-badge.svg\" alt=\"Open In Colab\"/></a>"
      ]
    },
    {
      "cell_type": "code",
      "metadata": {
        "id": "KuTKsOE7no-N",
        "colab_type": "code",
        "colab": {}
      },
      "source": [
        "import requests, re\n",
        "from pprint import pprint\n",
        "from collections import Counter as counter\n",
        "from bs4 import BeautifulSoup as bs4"
      ],
      "execution_count": 0,
      "outputs": []
    },
    {
      "cell_type": "code",
      "metadata": {
        "id": "K7Bv6gaBohkP",
        "colab_type": "code",
        "colab": {}
      },
      "source": [
        "url = 'https://ru.wikipedia.org/wiki/'\n",
        "\n",
        "target = 'дерево'.capitalize()"
      ],
      "execution_count": 0,
      "outputs": []
    },
    {
      "cell_type": "code",
      "metadata": {
        "id": "th9l-O6mqknM",
        "colab_type": "code",
        "colab": {
          "base_uri": "https://localhost:8080/",
          "height": 34
        },
        "outputId": "eeba0562-75dd-45a2-a3ab-99eb7d0ce469"
      },
      "source": [
        "r = requests.get(url+target)\n",
        "\n",
        "print(r.encoding)\n",
        "\n",
        "soup = bs4(r.text, 'html.parser')\n",
        "\n",
        "head = soup.h1.next.strip()"
      ],
      "execution_count": 60,
      "outputs": [
        {
          "output_type": "stream",
          "text": [
            "UTF-8\n"
          ],
          "name": "stdout"
        }
      ]
    },
    {
      "cell_type": "code",
      "metadata": {
        "id": "m5ipAzMkqthc",
        "colab_type": "code",
        "colab": {
          "base_uri": "https://localhost:8080/",
          "height": 52
        },
        "outputId": "847e6c06-00f5-4415-c48d-abf470ce27b2"
      },
      "source": [
        "print(r.status_code)\n",
        "print(f'Тема: {head}')"
      ],
      "execution_count": 30,
      "outputs": [
        {
          "output_type": "stream",
          "text": [
            "200\n",
            "Тема: Дерево\n"
          ],
          "name": "stdout"
        }
      ]
    },
    {
      "cell_type": "code",
      "metadata": {
        "id": "PjL2Js0vqsUs",
        "colab_type": "code",
        "colab": {}
      },
      "source": [
        "main_text = str(soup.find_all(['p', 'li', 'span', 'a']))"
      ],
      "execution_count": 0,
      "outputs": []
    },
    {
      "cell_type": "code",
      "metadata": {
        "id": "gwqB8WGzEmA4",
        "colab_type": "code",
        "colab": {
          "base_uri": "https://localhost:8080/",
          "height": 34
        },
        "outputId": "29e3ae32-6c30-46ec-edf1-fb699530dfc0"
      },
      "source": [
        "mask = '[а-яА-Я]{4,}'\n",
        "\n",
        "words = counter(re.findall(mask, main_text))\n",
        "\n",
        "print(len(words))"
      ],
      "execution_count": 32,
      "outputs": [
        {
          "output_type": "stream",
          "text": [
            "2260\n"
          ],
          "name": "stdout"
        }
      ]
    },
    {
      "cell_type": "code",
      "metadata": {
        "id": "Vg7oxELaFsWH",
        "colab_type": "code",
        "colab": {
          "base_uri": "https://localhost:8080/",
          "height": 368
        },
        "outputId": "be3c1197-06ec-4f64-9222-2b009a611686"
      },
      "source": [
        "for i in words.most_common(20):\n",
        "  print(i)"
      ],
      "execution_count": 33,
      "outputs": [
        {
          "output_type": "stream",
          "text": [
            "('Редактировать', 79)\n",
            "('раздел', 76)\n",
            "('править', 76)\n",
            "('язык', 60)\n",
            "('Латинский', 56)\n",
            "('деревьев', 55)\n",
            "('деревья', 55)\n",
            "('Дерево', 52)\n",
            "('дерево', 39)\n",
            "('Розовые', 36)\n",
            "('растений', 35)\n",
            "('страница', 32)\n",
            "('дерева', 30)\n",
            "('видов', 30)\n",
            "('Сосновые', 30)\n",
            "('Слива', 30)\n",
            "('Кипарисовые', 27)\n",
            "('отсутствует', 27)\n",
            "('Википедия', 26)\n",
            "('семейства', 25)\n"
          ],
          "name": "stdout"
        }
      ]
    },
    {
      "cell_type": "markdown",
      "metadata": {
        "id": "cdnZmC_1mlG9",
        "colab_type": "text"
      },
      "source": [
        "# !\n",
        "#### Не знал как сделать дальше чтоб было красиво, поэтому применил фильтр startswith. Если будут рекомендации, как методами СУПА чисто вытащить ссылку (с уточнением класса, например) - буду рад услышать."
      ]
    },
    {
      "cell_type": "code",
      "metadata": {
        "id": "3HvpMzbrFtIe",
        "colab_type": "code",
        "colab": {
          "base_uri": "https://localhost:8080/",
          "height": 105
        },
        "outputId": "4fe9aed3-f8b0-4429-d1ac-f869195e41b2"
      },
      "source": [
        "links_raw = soup.select('#mw-content-text > div > ul > li > a')\n",
        "\n",
        "links = []\n",
        "\n",
        "for i in links_raw:\n",
        "  if i.get('href').startswith('http'):\n",
        "    links.append(i.get('href'))\n",
        "    \n",
        "pprint(links)"
      ],
      "execution_count": 47,
      "outputs": [
        {
          "output_type": "stream",
          "text": [
            "['http://transspot.ru/2013/05/31/pro-derevya-na-ulicax/',\n",
            " 'http://ec-dejavu.ru/d/Derevo.html',\n",
            " 'http://www.maleus.ru/index.php/news/129-tree',\n",
            " 'http://www.na.fs.fed.us/spfo/pubs/silvics_manual/table_of_contents.htm',\n",
            " 'http://hort.ifas.ufl.edu/woody/']\n"
          ],
          "name": "stdout"
        }
      ]
    },
    {
      "cell_type": "markdown",
      "metadata": {
        "id": "oRa7hqXB2mnh",
        "colab_type": "text"
      },
      "source": [
        "### Запилил все в одну функцию"
      ]
    },
    {
      "cell_type": "code",
      "metadata": {
        "id": "V6diogW5ni5w",
        "colab_type": "code",
        "colab": {}
      },
      "source": [
        "def links_pars(links, mask, count):\n",
        "  \n",
        "  for link in links:\n",
        "    \n",
        "    r = requests.get(link)\n",
        "    r.encoding = r.apparent_encoding\n",
        "    \n",
        "    soup = bs4(r.text, 'html.parser')\n",
        "    \n",
        "    words = counter(re.findall(mask, str(soup)))\n",
        "    \n",
        "    if len(words) == 0:\n",
        "      \n",
        "      en_mask = '[a-zA-Z]{4,}'\n",
        "      words = counter(re.findall(en_mask, str(soup)))\n",
        "                    \n",
        "    print(f' Status code for {link} is: {r.status_code}\\n'\n",
        "          f' Наиболее часто встречаемые слова в документе:\\n {words.most_common(count)}\\n'\n",
        "          f'==================================================================================')"
      ],
      "execution_count": 0,
      "outputs": []
    },
    {
      "cell_type": "code",
      "metadata": {
        "id": "oeemTGLmolex",
        "colab_type": "code",
        "colab": {
          "base_uri": "https://localhost:8080/",
          "height": 544
        },
        "outputId": "21a486d9-b466-48a8-f600-d1ae72a613a0"
      },
      "source": [
        "links_pars(links, mask, 5)"
      ],
      "execution_count": 100,
      "outputs": [
        {
          "output_type": "stream",
          "text": [
            " Status code for http://transspot.ru/2013/05/31/pro-derevya-na-ulicax/ is: 200\n",
            "\n",
            " Наиболее часто встречаемые слова в документе:\n",
            " [('движения', 26), ('деревьев', 25), ('деревья', 19), ('городе', 17), ('Деревья', 16)]\n",
            "\n",
            "==================================================================================\n",
            " Status code for http://ec-dejavu.ru/d/Derevo.html is: 200\n",
            "\n",
            " Наиболее часто встречаемые слова в документе:\n",
            " [('Гваттари', 33), ('дерево', 26), ('дерева', 20), ('Делез', 16), ('мира', 14)]\n",
            "\n",
            "==================================================================================\n",
            " Status code for http://www.maleus.ru/index.php/news/129-tree is: 200\n",
            "\n",
            " Наиболее часто встречаемые слова в документе:\n",
            " [('окаменелости', 4), ('Сбор', 4), ('средств', 4), ('хостинг', 4), ('дизайн', 4)]\n",
            "\n",
            "==================================================================================\n",
            " Status code for http://www.na.fs.fed.us/spfo/pubs/silvics_manual/table_of_contents.htm is: 200\n",
            "\n",
            " Наиболее часто встречаемые слова в документе:\n",
            " [('class', 448), ('data', 361), ('naspf', 192), ('href', 151), ('https', 113)]\n",
            "\n",
            "==================================================================================\n",
            " Status code for http://hort.ifas.ufl.edu/woody/ is: 200\n",
            "\n",
            " Наиболее часто встречаемые слова в документе:\n",
            " [('href', 50), ('shtml', 42), ('class', 18), ('http', 12), ('style', 10)]\n",
            "\n",
            "==================================================================================\n"
          ],
          "name": "stdout"
        }
      ]
    },
    {
      "cell_type": "markdown",
      "metadata": {
        "id": "cE2UOysF2NWJ",
        "colab_type": "text"
      },
      "source": [
        "#!\n",
        "#### Так как две последние ссылки ведут не на статьи а на полу пустые страницы - в них преобладают слова из кода, т.к. они составляют большинство встречающихся слов."
      ]
    }
  ]
}