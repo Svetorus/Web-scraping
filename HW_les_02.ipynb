{
  "nbformat": 4,
  "nbformat_minor": 0,
  "metadata": {
    "colab": {
      "name": "HW les 02.ipynb",
      "version": "0.3.2",
      "provenance": [],
      "collapsed_sections": [],
      "include_colab_link": true
    },
    "kernelspec": {
      "name": "python3",
      "display_name": "Python 3"
    }
  },
  "cells": [
    {
      "cell_type": "markdown",
      "metadata": {
        "id": "view-in-github",
        "colab_type": "text"
      },
      "source": [
        "<a href=\"https://colab.research.google.com/github/panzershracker/Web-scraping/blob/master/HW_les_02.ipynb\" target=\"_parent\"><img src=\"https://colab.research.google.com/assets/colab-badge.svg\" alt=\"Open In Colab\"/></a>"
      ]
    },
    {
      "cell_type": "code",
      "metadata": {
        "id": "KuTKsOE7no-N",
        "colab_type": "code",
        "colab": {}
      },
      "source": [
        "import requests, re\n",
        "from pprint import pprint\n",
        "from collections import Counter as counter\n",
        "from bs4 import BeautifulSoup as bs4"
      ],
      "execution_count": 0,
      "outputs": []
    },
    {
      "cell_type": "code",
      "metadata": {
        "id": "K7Bv6gaBohkP",
        "colab_type": "code",
        "colab": {}
      },
      "source": [
        "url = 'https://ru.wikipedia.org/wiki/'\n",
        "\n",
        "target = 'дерево'.capitalize()"
      ],
      "execution_count": 0,
      "outputs": []
    },
    {
      "cell_type": "code",
      "metadata": {
        "id": "th9l-O6mqknM",
        "colab_type": "code",
        "colab": {}
      },
      "source": [
        "r = requests.get(url+target)\n",
        "\n",
        "soup = bs4(r.text, 'html.parser')\n",
        "\n",
        "head = soup.h1.next.strip()"
      ],
      "execution_count": 0,
      "outputs": []
    },
    {
      "cell_type": "code",
      "metadata": {
        "id": "m5ipAzMkqthc",
        "colab_type": "code",
        "colab": {
          "base_uri": "https://localhost:8080/",
          "height": 52
        },
        "outputId": "924dec64-ffbb-4a90-dbbb-50a88d8a1e56"
      },
      "source": [
        "print(r.status_code)\n",
        "print(f'Тема: {head}')"
      ],
      "execution_count": 4,
      "outputs": [
        {
          "output_type": "stream",
          "text": [
            "200\n",
            "Тема: Дерево\n"
          ],
          "name": "stdout"
        }
      ]
    },
    {
      "cell_type": "code",
      "metadata": {
        "id": "PjL2Js0vqsUs",
        "colab_type": "code",
        "colab": {}
      },
      "source": [
        "main_text = str(soup.find_all(['p', 'li', 'span', 'a']))"
      ],
      "execution_count": 0,
      "outputs": []
    },
    {
      "cell_type": "code",
      "metadata": {
        "id": "gwqB8WGzEmA4",
        "colab_type": "code",
        "colab": {
          "base_uri": "https://localhost:8080/",
          "height": 34
        },
        "outputId": "92ac5aee-0ad9-4527-f34e-402274972944"
      },
      "source": [
        "words = counter(re.findall('[а-яА-Я]{4,}', main_text))\n",
        "\n",
        "print(len(words))"
      ],
      "execution_count": 6,
      "outputs": [
        {
          "output_type": "stream",
          "text": [
            "2260\n"
          ],
          "name": "stdout"
        }
      ]
    },
    {
      "cell_type": "code",
      "metadata": {
        "id": "Vg7oxELaFsWH",
        "colab_type": "code",
        "colab": {
          "base_uri": "https://localhost:8080/",
          "height": 368
        },
        "outputId": "4945a85d-ad05-49ce-be99-51ae330cd767"
      },
      "source": [
        "for i in words.most_common(20):\n",
        "  print(i)"
      ],
      "execution_count": 7,
      "outputs": [
        {
          "output_type": "stream",
          "text": [
            "('Редактировать', 79)\n",
            "('раздел', 76)\n",
            "('править', 76)\n",
            "('язык', 60)\n",
            "('Латинский', 56)\n",
            "('деревьев', 55)\n",
            "('деревья', 55)\n",
            "('Дерево', 52)\n",
            "('дерево', 39)\n",
            "('Розовые', 36)\n",
            "('растений', 35)\n",
            "('страница', 32)\n",
            "('дерева', 30)\n",
            "('видов', 30)\n",
            "('Сосновые', 30)\n",
            "('Слива', 30)\n",
            "('Кипарисовые', 27)\n",
            "('отсутствует', 27)\n",
            "('Википедия', 26)\n",
            "('семейства', 25)\n"
          ],
          "name": "stdout"
        }
      ]
    },
    {
      "cell_type": "code",
      "metadata": {
        "id": "3HvpMzbrFtIe",
        "colab_type": "code",
        "colab": {
          "base_uri": "https://localhost:8080/",
          "height": 336
        },
        "outputId": "38e2dbbe-b6df-40b4-baa0-817eda8b994f"
      },
      "source": [
        "links = soup.select('#mw-content-text > div > ul > li > a')\n",
        "\n",
        "for i in links:\n",
        "  print(i.get('href'))"
      ],
      "execution_count": 11,
      "outputs": [
        {
          "output_type": "stream",
          "text": [
            "/wiki/%D0%A1%D0%B5%D0%BA%D0%B2%D0%BE%D0%B9%D1%8F\n",
            "/wiki/%D0%A0%D0%B5%D0%B4%D0%B2%D1%83%D0%B4_(%D0%BD%D0%B0%D1%86%D0%B8%D0%BE%D0%BD%D0%B0%D0%BB%D1%8C%D0%BD%D1%8B%D0%B9_%D0%BF%D0%B0%D1%80%D0%BA)\n",
            "/wiki/%D0%91%D0%B0%D0%BE%D0%B1%D0%B0%D0%B1\n",
            "/wiki/%D0%9B%D0%B5%D0%B4%D0%BD%D0%B8%D0%BA%D0%BE%D0%B2%D1%8B%D0%B9_%D0%BF%D0%B5%D1%80%D0%B8%D0%BE%D0%B4\n",
            "/wiki/%D0%94%D0%B5%D0%BD%D1%8C_%D0%B4%D0%B5%D1%80%D0%B5%D0%B2%D0%B0\n",
            "/wiki/%D0%9A%D1%80%D1%83%D0%BF%D0%BD%D0%BE%D0%BC%D0%B5%D1%80%D1%8B\n",
            "/wiki/%D0%A1%D0%BF%D0%B8%D1%81%D0%BE%D0%BA_%D1%81%D1%82%D0%B0%D1%80%D0%B5%D0%B9%D1%88%D0%B8%D1%85_%D0%B4%D0%B5%D1%80%D0%B5%D0%B2%D1%8C%D0%B5%D0%B2\n",
            "/wiki/%D0%94%D1%80%D0%B5%D0%B2%D0%B5%D1%81%D0%B8%D0%BD%D0%B0\n",
            "/wiki/%D0%9F%D0%BE%D1%80%D0%BE%D0%BA%D0%B8_%D0%B4%D1%80%D0%B5%D0%B2%D0%B5%D1%81%D0%B8%D0%BD%D1%8B\n",
            "/wiki/%D0%A2%D1%80%D0%B0%D0%B2%D1%8F%D0%BD%D1%8B%D0%B5_%D0%B4%D0%B5%D1%80%D0%B5%D0%B2%D1%8C%D1%8F\n",
            "/wiki/%D0%9B%D0%B5%D1%81\n",
            "/wiki/%D0%93%D0%B5%D0%BD%D0%B5%D1%82%D0%B8%D1%87%D0%B5%D1%81%D0%BA%D0%B8_%D0%BC%D0%BE%D0%B4%D0%B8%D1%84%D0%B8%D1%86%D0%B8%D1%80%D0%BE%D0%B2%D0%B0%D0%BD%D0%BD%D0%BE%D0%B5_%D0%B4%D0%B5%D1%80%D0%B5%D0%B2%D0%BE\n",
            "http://transspot.ru/2013/05/31/pro-derevya-na-ulicax/\n",
            "http://ec-dejavu.ru/d/Derevo.html\n",
            "http://www.maleus.ru/index.php/news/129-tree\n",
            "http://www.na.fs.fed.us/spfo/pubs/silvics_manual/table_of_contents.htm\n",
            "http://hort.ifas.ufl.edu/woody/\n"
          ],
          "name": "stdout"
        }
      ]
    }
  ]
}