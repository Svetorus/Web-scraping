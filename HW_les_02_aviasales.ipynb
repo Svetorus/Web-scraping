{
  "nbformat": 4,
  "nbformat_minor": 0,
  "metadata": {
    "colab": {
      "name": "HW les 02 aviasales.ipynb",
      "version": "0.3.2",
      "provenance": [],
      "include_colab_link": true
    },
    "kernelspec": {
      "name": "python3",
      "display_name": "Python 3"
    }
  },
  "cells": [
    {
      "cell_type": "markdown",
      "metadata": {
        "id": "view-in-github",
        "colab_type": "text"
      },
      "source": [
        "<a href=\"https://colab.research.google.com/github/panzershracker/Web-scraping/blob/master/HW_les_02_aviasales.ipynb\" target=\"_parent\"><img src=\"https://colab.research.google.com/assets/colab-badge.svg\" alt=\"Open In Colab\"/></a>"
      ]
    },
    {
      "cell_type": "code",
      "metadata": {
        "id": "kdFk0pP_RYnM",
        "colab_type": "code",
        "colab": {}
      },
      "source": [
        "from pprint import pprint\n",
        "import requests\n",
        "import json"
      ],
      "execution_count": 0,
      "outputs": []
    },
    {
      "cell_type": "code",
      "metadata": {
        "id": "aY7YzqSDTIT0",
        "colab_type": "code",
        "colab": {
          "base_uri": "https://localhost:8080/",
          "height": 85
        },
        "outputId": "d9d29fd3-4fa2-49e2-dc65-f7a62b85d50e"
      },
      "source": [
        "orig = input(f'Введите название города отправления: \\n')\n",
        "dest = input(f'Введите название города отправления: \\n')"
      ],
      "execution_count": 90,
      "outputs": [
        {
          "output_type": "stream",
          "text": [
            "Введите название города отправления: \n",
            "Москва\n",
            "Введите название города отправления: \n",
            "Дублин\n"
          ],
          "name": "stdout"
        }
      ]
    },
    {
      "cell_type": "code",
      "metadata": {
        "id": "j5jt-AQsRlqK",
        "colab_type": "code",
        "colab": {}
      },
      "source": [
        "city_name = f'https://www.travelpayouts.com/widgets_suggest_params?q=Из%20{orig}%20в%20{dest}'\n",
        "\n",
        "r = requests.get(city_name).json()\n",
        "\n",
        "orig_name = r['origin']['name']\n",
        "orig_iata = r['origin']['iata']\n",
        "\n",
        "dest_name = r['destination']['name']\n",
        "dest_iata = r['destination']['iata']\n"
      ],
      "execution_count": 0,
      "outputs": []
    },
    {
      "cell_type": "code",
      "metadata": {
        "id": "sFtD5GBpYFJ8",
        "colab_type": "code",
        "colab": {}
      },
      "source": [
        "service = 'http://min-prices.aviasales.ru/calendar_preload?'\n",
        "\n",
        "link = f'{service}origin={orig_iata}&destination={dest_iata}&one_way=true'"
      ],
      "execution_count": 0,
      "outputs": []
    },
    {
      "cell_type": "code",
      "metadata": {
        "id": "OBUQfNLOZYgw",
        "colab_type": "code",
        "colab": {
          "base_uri": "https://localhost:8080/",
          "height": 187
        },
        "outputId": "a38ac2d3-dd38-49c2-cd80-3ac15a61f1de"
      },
      "source": [
        "r = requests.get(link)\n",
        "\n",
        "data = json.loads(r.text)\n",
        "\n",
        "for i in data['best_prices'][:10]:\n",
        "    print(f\" from: {orig_name} to: {dest_name} {i['value']} {i['depart_date']} {i['return_date']} {i['gate']}\")\n"
      ],
      "execution_count": 93,
      "outputs": [
        {
          "output_type": "stream",
          "text": [
            " from: Москва to: Дублин 7974.0 2020-04-15 None AMADEUS\n",
            " from: Москва to: Дублин 7174.0 2020-03-19 None AMADEUS\n",
            " from: Москва to: Дублин 6166.0 2019-09-23 None Kiwi.com\n",
            " from: Москва to: Дублин 3872.0 2019-10-14 None Kiwi.com\n",
            " from: Москва to: Дублин 5752.0 2019-09-17 None Kiwi.com\n",
            " from: Москва to: Дублин 5168.0 2019-10-05 None Kiwi.com\n",
            " from: Москва to: Дублин 6635.0 2020-03-12 None AMADEUS\n",
            " from: Москва to: Дублин 5557.0 2019-10-31 None Kiwi.com\n",
            " from: Москва to: Дублин 8239.0 2019-12-17 None AMADEUS\n",
            " from: Москва to: Дублин 9349.0 2019-12-29 None AMADEUS\n"
          ],
          "name": "stdout"
        }
      ]
    }
  ]
}