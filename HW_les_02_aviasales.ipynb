{
  "nbformat": 4,
  "nbformat_minor": 0,
  "metadata": {
    "colab": {
      "name": "HW les 02 aviasales.ipynb",
      "version": "0.3.2",
      "provenance": [],
      "collapsed_sections": [],
      "include_colab_link": true
    },
    "kernelspec": {
      "name": "python3",
      "display_name": "Python 3"
    }
  },
  "cells": [
    {
      "cell_type": "markdown",
      "metadata": {
        "id": "view-in-github",
        "colab_type": "text"
      },
      "source": [
        "<a href=\"https://colab.research.google.com/github/panzershracker/Web-scraping/blob/master/HW_les_02_aviasales.ipynb\" target=\"_parent\"><img src=\"https://colab.research.google.com/assets/colab-badge.svg\" alt=\"Open In Colab\"/></a>"
      ]
    },
    {
      "cell_type": "code",
      "metadata": {
        "id": "kdFk0pP_RYnM",
        "colab_type": "code",
        "colab": {}
      },
      "source": [
        "from pprint import pprint\n",
        "import requests\n",
        "import json"
      ],
      "execution_count": 0,
      "outputs": []
    },
    {
      "cell_type": "code",
      "metadata": {
        "id": "aY7YzqSDTIT0",
        "colab_type": "code",
        "colab": {
          "base_uri": "https://localhost:8080/",
          "height": 85
        },
        "outputId": "b508a5db-301a-4278-f6ba-12ea822aaf58"
      },
      "source": [
        "orig = input(f'Введите название города отправления: \\n')\n",
        "dest = input(f'Введите название города назначения: \\n')"
      ],
      "execution_count": 117,
      "outputs": [
        {
          "output_type": "stream",
          "text": [
            "Введите название города отправления: \n",
            "москва\n",
            "Введите название города назначения: \n",
            "лондон\n"
          ],
          "name": "stdout"
        }
      ]
    },
    {
      "cell_type": "code",
      "metadata": {
        "id": "j5jt-AQsRlqK",
        "colab_type": "code",
        "colab": {
          "base_uri": "https://localhost:8080/",
          "height": 51
        },
        "outputId": "6bdc0ae8-2be5-4db6-b947-e8f26883ff78"
      },
      "source": [
        "city_name = f'https://www.travelpayouts.com/widgets_suggest_params?q=Из%20{orig}%20в%20{dest}'\n",
        "\n",
        "r = requests.get(city_name).json()\n",
        "\n",
        "pprint(r)"
      ],
      "execution_count": 118,
      "outputs": [
        {
          "output_type": "stream",
          "text": [
            "{'destination': {'iata': 'LON', 'name': 'Лондон'},\n",
            " 'origin': {'iata': 'MOW', 'name': 'Москва'}}\n"
          ],
          "name": "stdout"
        }
      ]
    },
    {
      "cell_type": "code",
      "metadata": {
        "id": "UbSTd4klb1PG",
        "colab_type": "code",
        "colab": {}
      },
      "source": [
        "orig_name = r['origin']['name']\n",
        "orig_iata = r['origin']['iata']\n",
        "\n",
        "dest_name = r['destination']['name']\n",
        "dest_iata = r['destination']['iata']"
      ],
      "execution_count": 0,
      "outputs": []
    },
    {
      "cell_type": "code",
      "metadata": {
        "id": "sFtD5GBpYFJ8",
        "colab_type": "code",
        "colab": {}
      },
      "source": [
        "service = 'http://min-prices.aviasales.ru/calendar_preload?'\n",
        "\n",
        "link = f'{service}origin={orig_iata}&destination={dest_iata}&one_way=true'"
      ],
      "execution_count": 0,
      "outputs": []
    },
    {
      "cell_type": "code",
      "metadata": {
        "id": "OBUQfNLOZYgw",
        "colab_type": "code",
        "colab": {
          "base_uri": "https://localhost:8080/",
          "height": 187
        },
        "outputId": "8d8bac99-d80d-4075-dc91-d37696ad6a24"
      },
      "source": [
        "r = requests.get(link)\n",
        "\n",
        "data = json.loads(r.text)\n",
        "\n",
        "for i in data['best_prices'][:10]:\n",
        "    print(f\" from: {orig_name} to: {dest_name} {i['value']} {i['depart_date']} {i['return_date']} {i['gate']}\")\n"
      ],
      "execution_count": 121,
      "outputs": [
        {
          "output_type": "stream",
          "text": [
            " from: Москва to: Лондон 4026.0 2020-03-25 None Trip.ru\n",
            " from: Москва to: Лондон 6191.0 2020-07-08 None SuperKassa.ru\n",
            " from: Москва to: Лондон 6029.0 2020-06-07 None Trip.ru\n",
            " from: Москва to: Лондон 6187.0 2020-04-28 None Trip.ru\n",
            " from: Москва to: Лондон 4192.0 2020-03-22 None Trip.ru\n",
            " from: Москва to: Лондон 7141.0 2019-09-02 None Kiwi.com\n",
            " from: Москва to: Лондон 2190.0 2019-11-17 None OneTwoTrip\n",
            " from: Москва to: Лондон 6029.0 2020-07-04 None Trip.ru\n",
            " from: Москва to: Лондон 5111.0 2019-11-02 None Wizz Air\n",
            " from: Москва to: Лондон 2555.0 2019-11-11 None OneTwoTrip\n"
          ],
          "name": "stdout"
        }
      ]
    }
  ]
}