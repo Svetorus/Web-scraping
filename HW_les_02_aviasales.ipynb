{
  "nbformat": 4,
  "nbformat_minor": 0,
  "metadata": {
    "colab": {
      "name": "HW les 02 aviasales.ipynb",
      "version": "0.3.2",
      "provenance": [],
      "collapsed_sections": [],
      "include_colab_link": true
    },
    "kernelspec": {
      "name": "python3",
      "display_name": "Python 3"
    }
  },
  "cells": [
    {
      "cell_type": "markdown",
      "metadata": {
        "id": "view-in-github",
        "colab_type": "text"
      },
      "source": [
        "<a href=\"https://colab.research.google.com/github/panzershracker/Web-scraping/blob/master/HW_les_02_aviasales.ipynb\" target=\"_parent\"><img src=\"https://colab.research.google.com/assets/colab-badge.svg\" alt=\"Open In Colab\"/></a>"
      ]
    },
    {
      "cell_type": "code",
      "metadata": {
        "id": "kdFk0pP_RYnM",
        "colab_type": "code",
        "colab": {}
      },
      "source": [
        "from pprint import pprint\n",
        "import requests\n",
        "import json"
      ],
      "execution_count": 0,
      "outputs": []
    },
    {
      "cell_type": "code",
      "metadata": {
        "id": "aY7YzqSDTIT0",
        "colab_type": "code",
        "colab": {
          "base_uri": "https://localhost:8080/",
          "height": 85
        },
        "outputId": "61efe6b5-bc5c-4b7e-eade-da55d0ac5a25"
      },
      "source": [
        "orig = input(f'Введите название города отправления: \\n')\n",
        "dest = input(f'Введите название города отправления: \\n')"
      ],
      "execution_count": 96,
      "outputs": [
        {
          "output_type": "stream",
          "text": [
            "Введите название города отправления: \n",
            "Москва\n",
            "Введите название города отправления: \n",
            "Ливерпуль\n"
          ],
          "name": "stdout"
        }
      ]
    },
    {
      "cell_type": "code",
      "metadata": {
        "id": "j5jt-AQsRlqK",
        "colab_type": "code",
        "colab": {
          "base_uri": "https://localhost:8080/",
          "height": 51
        },
        "outputId": "4a70d676-ea38-4cd6-8681-9f0527e7294b"
      },
      "source": [
        "city_name = f'https://www.travelpayouts.com/widgets_suggest_params?q=Из%20{orig}%20в%20{dest}'\n",
        "\n",
        "r = requests.get(city_name).json()\n",
        "\n",
        "pprint(r)"
      ],
      "execution_count": 102,
      "outputs": [
        {
          "output_type": "stream",
          "text": [
            "{'destination': {'iata': 'LPL', 'name': 'Ливерпуль'},\n",
            " 'origin': {'iata': 'MOW', 'name': 'Москва'}}\n"
          ],
          "name": "stdout"
        }
      ]
    },
    {
      "cell_type": "code",
      "metadata": {
        "id": "UbSTd4klb1PG",
        "colab_type": "code",
        "colab": {}
      },
      "source": [
        "orig_name = r['origin']['name']\n",
        "orig_iata = r['origin']['iata']\n",
        "\n",
        "dest_name = r['destination']['name']\n",
        "dest_iata = r['destination']['iata']"
      ],
      "execution_count": 0,
      "outputs": []
    },
    {
      "cell_type": "code",
      "metadata": {
        "id": "sFtD5GBpYFJ8",
        "colab_type": "code",
        "colab": {}
      },
      "source": [
        "service = 'http://min-prices.aviasales.ru/calendar_preload?'\n",
        "\n",
        "link = f'{service}origin={orig_iata}&destination={dest_iata}&one_way=true'"
      ],
      "execution_count": 0,
      "outputs": []
    },
    {
      "cell_type": "code",
      "metadata": {
        "id": "OBUQfNLOZYgw",
        "colab_type": "code",
        "colab": {
          "base_uri": "https://localhost:8080/",
          "height": 187
        },
        "outputId": "2aff8725-53c9-42b8-bc0a-8be0ddb6a4c3"
      },
      "source": [
        "r = requests.get(link)\n",
        "\n",
        "data = json.loads(r.text)\n",
        "\n",
        "for i in data['best_prices'][:10]:\n",
        "    print(f\" from: {orig_name} to: {dest_name} {i['value']} {i['depart_date']} {i['return_date']} {i['gate']}\")\n"
      ],
      "execution_count": 100,
      "outputs": [
        {
          "output_type": "stream",
          "text": [
            " from: Москва to: Ливерпуль 7182.0 2020-02-02 None Kiwi.com\n",
            " from: Москва to: Ливерпуль 5811.0 2019-10-02 None Kiwi.com\n",
            " from: Москва to: Ливерпуль 9389.0 2019-09-05 None Kiwi.com\n",
            " from: Москва to: Ливерпуль 5383.0 2019-11-05 None Kiwi.com\n",
            " from: Москва to: Ливерпуль 9976.0 2019-09-08 None Kiwi.com\n",
            " from: Москва to: Ливерпуль 5768.0 2019-11-08 None Kiwi.com\n",
            " from: Москва to: Ливерпуль 4955.0 2019-10-09 None Kiwi.com\n",
            " from: Москва to: Ливерпуль 7705.0 2019-09-11 None Kiwi.com\n",
            " from: Москва to: Ливерпуль 4656.0 2019-11-14 None Kiwi.com\n",
            " from: Москва to: Ливерпуль 6622.0 2019-11-15 None Kiwi.com\n"
          ],
          "name": "stdout"
        }
      ]
    }
  ]
}